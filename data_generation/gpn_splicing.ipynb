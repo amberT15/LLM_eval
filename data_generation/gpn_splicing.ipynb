{
 "cells": [
  {
   "cell_type": "code",
   "execution_count": 1,
   "metadata": {},
   "outputs": [
    {
     "name": "stderr",
     "output_type": "stream",
     "text": [
      "/home/ztang/.conda/envs/gpn_env/lib/python3.9/site-packages/tqdm/auto.py:21: TqdmWarning: IProgress not found. Please update jupyter and ipywidgets. See https://ipywidgets.readthedocs.io/en/stable/user_install.html\n",
      "  from .autonotebook import tqdm as notebook_tqdm\n",
      "Some weights of the model checkpoint at /home/ztang/multitask_RNA/model/GPN_human/checkpoint-2000000 were not used when initializing ConvNetModel: ['cls.decoder.3.bias', 'cls.decoder.0.weight', 'cls.decoder.0.bias', 'cls.decoder.2.weight', 'cls.decoder.2.bias', 'cls.decoder.3.weight']\n",
      "- This IS expected if you are initializing ConvNetModel from the checkpoint of a model trained on another task or with another architecture (e.g. initializing a BertForSequenceClassification model from a BertForPreTraining model).\n",
      "- This IS NOT expected if you are initializing ConvNetModel from the checkpoint of a model that you expect to be exactly identical (initializing a BertForSequenceClassification model from a BertForSequenceClassification model).\n"
     ]
    }
   ],
   "source": [
    "import gpn.model\n",
    "import matplotlib.pyplot as plt\n",
    "import pandas as pd\n",
    "import seaborn as sns\n",
    "from sklearn.preprocessing import StandardScaler\n",
    "import torch\n",
    "from transformers import AutoModel, AutoModelForMaskedLM, AutoTokenizer\n",
    "import h5py\n",
    "import sys\n",
    "from tqdm import tqdm\n",
    "import numpy as np\n",
    "sys.path.append('../')\n",
    "import utils\n",
    "import os\n",
    "from tqdm import tqdm\n",
    "os.environ['CUDA_VISIBLE_DEVICES'] = '1'\n",
    "\n",
    "# model = AutoModel.from_pretrained(\"/home/ztang/multitask_RNA/model/GPN_finetune/checkpoint-2000000\").to('cuda')\n",
    "# tokenizer = AutoTokenizer.from_pretrained(\"/home/ztang/multitask_RNA/model/GPN_finetune/checkpoint-2000000\")\n",
    "# model = AutoModel.from_pretrained('songlab/gpn-brassicales').to('cuda')\n",
    "# tokenizer = AutoTokenizer.from_pretrained('songlab/gpn-brassicales')\n",
    " \n",
    "model = AutoModel.from_pretrained(\"/home/ztang/multitask_RNA/model/GPN_human/checkpoint-2000000\").to('cuda')\n",
    "tokenizer = AutoTokenizer.from_pretrained(\"/home/ztang/multitask_RNA/model/GPN_human/checkpoint-2000000\")\n",
    "model.eval();\n",
    "\n",
    "\n",
    "\n",
    "\n",
    "celltype = 'HepG2'\n",
    "\n",
    "file = h5py.File('/home/ztang/multitask_RNA/data/mtsplice/delta_logit.h5','r')"
   ]
  },
  {
   "cell_type": "code",
   "execution_count": 2,
   "metadata": {},
   "outputs": [
    {
     "name": "stderr",
     "output_type": "stream",
     "text": [
      "  0%|          | 0/34 [00:00<?, ?it/s]/home/ztang/.conda/envs/gpn_env/lib/python3.9/site-packages/torch/nn/modules/conv.py:309: UserWarning: Applied workaround for CuDNN issue, install nvrtc.so (Triggered internally at ../aten/src/ATen/native/cudnn/Conv_v8.cpp:80.)\n",
      "  return F.conv1d(input, weight, bias, self.stride,\n",
      "100%|██████████| 34/34 [00:03<00:00,  8.78it/s]\n",
      "100%|██████████| 370/370 [00:41<00:00,  8.96it/s]\n",
      "100%|██████████| 1189/1189 [02:12<00:00,  8.95it/s]\n"
     ]
    }
   ],
   "source": [
    "gpn_output = h5py.File('../../data/mtsplice/gpn_mt.h5','w')\n",
    "batch_size = 32\n",
    "for label in ('valid','test','train'):\n",
    "    l_cache = []\n",
    "    r_cache = [] \n",
    "    for i in tqdm(range(0,len(file['x_'+label]),batch_size)):\n",
    "        seq = file['x_'+label][i:i+batch_size].astype('int')\n",
    "        seq = utils.onehot_to_seq(seq)\n",
    "        clean_seq = [s if 'N' not in s else s.replace('N','[PAD]') for s in seq ]\n",
    "        input_ids = tokenizer(clean_seq, return_tensors=\"pt\", return_attention_mask=False, return_token_type_ids=False)[\"input_ids\"]\n",
    "        l_input = input_ids[:,:400]\n",
    "        r_input = input_ids[:,400:]\n",
    "        with torch.no_grad():\n",
    "            l_output = model(l_input.to('cuda')).last_hidden_state.cpu().detach().numpy()\n",
    "            r_output = model(r_input.to('cuda')).last_hidden_state.cpu().detach().numpy()\n",
    "        l_cache.extend(l_output)\n",
    "        r_cache.extend(r_output)\n",
    "    gpn_output.create_dataset(name='xl_'+label,data = np.array(l_cache),dtype = 'float32')\n",
    "    gpn_output.create_dataset(name='xr_'+label,data = np.array(r_cache),dtype = 'float32')\n",
    "    gpn_output.create_dataset(name='y_'+label,data = file['y_'+label][:],dtype='float32') \n",
    "gpn_output.close()"
   ]
  },
  {
   "cell_type": "code",
   "execution_count": null,
   "metadata": {},
   "outputs": [],
   "source": []
  },
  {
   "cell_type": "code",
   "execution_count": null,
   "metadata": {},
   "outputs": [],
   "source": []
  }
 ],
 "metadata": {
  "kernelspec": {
   "display_name": "gpn_env",
   "language": "python",
   "name": "python3"
  },
  "language_info": {
   "codemirror_mode": {
    "name": "ipython",
    "version": 3
   },
   "file_extension": ".py",
   "mimetype": "text/x-python",
   "name": "python",
   "nbconvert_exporter": "python",
   "pygments_lexer": "ipython3",
   "version": "3.9.0"
  },
  "orig_nbformat": 4
 },
 "nbformat": 4,
 "nbformat_minor": 2
}
