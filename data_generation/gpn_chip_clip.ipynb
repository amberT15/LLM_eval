{
 "cells": [
  {
   "cell_type": "code",
   "execution_count": 1,
   "metadata": {},
   "outputs": [
    {
     "name": "stderr",
     "output_type": "stream",
     "text": [
      "/home/ztang/.conda/envs/gpn_env/lib/python3.9/site-packages/tqdm/auto.py:21: TqdmWarning: IProgress not found. Please update jupyter and ipywidgets. See https://ipywidgets.readthedocs.io/en/stable/user_install.html\n",
      "  from .autonotebook import tqdm as notebook_tqdm\n",
      "Some weights of the model checkpoint at /home/ztang/multitask_RNA/model/GPN_human/checkpoint-2000000 were not used when initializing ConvNetModel: ['cls.decoder.0.bias', 'cls.decoder.2.weight', 'cls.decoder.3.weight', 'cls.decoder.2.bias', 'cls.decoder.3.bias', 'cls.decoder.0.weight']\n",
      "- This IS expected if you are initializing ConvNetModel from the checkpoint of a model trained on another task or with another architecture (e.g. initializing a BertForSequenceClassification model from a BertForPreTraining model).\n",
      "- This IS NOT expected if you are initializing ConvNetModel from the checkpoint of a model that you expect to be exactly identical (initializing a BertForSequenceClassification model from a BertForSequenceClassification model).\n"
     ]
    }
   ],
   "source": [
    "import gpn.model\n",
    "import matplotlib.pyplot as plt\n",
    "import pandas as pd\n",
    "import seaborn as sns\n",
    "from sklearn.preprocessing import StandardScaler\n",
    "import torch\n",
    "from transformers import AutoModel, AutoModelForMaskedLM, AutoTokenizer\n",
    "import h5py\n",
    "import sys\n",
    "from tqdm import tqdm\n",
    "import numpy as np\n",
    "sys.path.append('../')\n",
    "import utils\n",
    "import os\n",
    "from tqdm import tqdm\n",
    "import glob\n",
    "os.environ['CUDA_VISIBLE_DEVICES'] = '2'\n",
    " \n",
    "model = AutoModel.from_pretrained(\"/home/ztang/multitask_RNA/model/GPN_human/checkpoint-2000000\").to('cuda')\n",
    "tokenizer = AutoTokenizer.from_pretrained(\"/home/ztang/multitask_RNA/model/GPN_human/checkpoint-2000000\")\n",
    "model.eval();\n",
    "\n",
    "file_list = glob.glob('/home/ztang/multitask_RNA/data/eclip/*.h5')\n"
   ]
  },
  {
   "cell_type": "code",
   "execution_count": 2,
   "metadata": {},
   "outputs": [
    {
     "name": "stderr",
     "output_type": "stream",
     "text": [
      "  0%|          | 0/715 [00:00<?, ?it/s]/home/ztang/.conda/envs/gpn_env/lib/python3.9/site-packages/torch/nn/modules/conv.py:309: UserWarning: Applied workaround for CuDNN issue, install nvrtc.so (Triggered internally at ../aten/src/ATen/native/cudnn/Conv_v8.cpp:80.)\n",
      "  return F.conv1d(input, weight, bias, self.stride,\n",
      "100%|██████████| 715/715 [00:43<00:00, 16.30it/s]\n",
      "100%|██████████| 103/103 [00:03<00:00, 28.13it/s]\n",
      "100%|██████████| 205/205 [00:08<00:00, 25.25it/s]\n",
      "100%|██████████| 74/74 [00:02<00:00, 29.23it/s]\n",
      "100%|██████████| 11/11 [00:00<00:00, 31.89it/s]\n",
      "100%|██████████| 21/21 [00:00<00:00, 31.82it/s]\n",
      "100%|██████████| 132/132 [00:04<00:00, 27.76it/s]\n",
      "100%|██████████| 19/19 [00:00<00:00, 32.74it/s]\n",
      "100%|██████████| 38/38 [00:01<00:00, 30.45it/s]\n",
      "100%|██████████| 150/150 [00:05<00:00, 26.72it/s]\n",
      "100%|██████████| 22/22 [00:00<00:00, 33.22it/s]\n",
      "100%|██████████| 43/43 [00:01<00:00, 29.41it/s]\n",
      "100%|██████████| 197/197 [00:07<00:00, 25.69it/s]\n",
      "100%|██████████| 29/29 [00:00<00:00, 30.87it/s]\n",
      "100%|██████████| 57/57 [00:02<00:00, 27.41it/s]\n",
      "100%|██████████| 354/354 [00:16<00:00, 21.69it/s]\n",
      "100%|██████████| 51/51 [00:01<00:00, 29.42it/s]\n",
      "100%|██████████| 102/102 [00:03<00:00, 27.65it/s]\n",
      "100%|██████████| 126/126 [00:04<00:00, 27.51it/s]\n",
      "100%|██████████| 18/18 [00:00<00:00, 31.99it/s]\n",
      "100%|██████████| 36/36 [00:01<00:00, 29.73it/s]\n",
      "100%|██████████| 396/396 [00:18<00:00, 21.56it/s]\n",
      "100%|██████████| 57/57 [00:01<00:00, 29.49it/s]\n",
      "100%|██████████| 114/114 [00:04<00:00, 27.87it/s]\n",
      "100%|██████████| 265/265 [00:10<00:00, 24.19it/s]\n",
      "100%|██████████| 38/38 [00:01<00:00, 30.81it/s]\n",
      "100%|██████████| 76/76 [00:02<00:00, 28.79it/s]\n",
      "100%|██████████| 318/318 [00:14<00:00, 22.53it/s]\n",
      "100%|██████████| 46/46 [00:01<00:00, 28.30it/s]\n",
      "100%|██████████| 91/91 [00:03<00:00, 29.18it/s]\n"
     ]
    }
   ],
   "source": [
    "for file in file_list:\n",
    "    tf_name = file.split('/')[-1][:-7]\n",
    "    gpn_output = h5py.File('/home/ztang/multitask_RNA/data/eclip/GPN/'+tf_name+'_200.h5','w')\n",
    "    batch_size = 32\n",
    "    file = h5py.File(file,'r')\n",
    "    for label in ('train','valid','test'):\n",
    "        output_cache = []  \n",
    "        for i in tqdm(range(0,len(file['X_'+label]),batch_size)):\n",
    "            seq = file['X_'+label][i:i+batch_size].astype('int')\n",
    "            seq = np.transpose(seq,(0,2,1))\n",
    "            seq = utils.onehot_to_seq(seq)\n",
    "            input_ids = tokenizer(seq, return_tensors=\"pt\", return_attention_mask=False, return_token_type_ids=False)[\"input_ids\"]\n",
    "            with torch.no_grad():\n",
    "                output_seq = model(input_ids.to('cuda')).last_hidden_state.cpu().detach().numpy()\n",
    "            output_cache.extend(output_seq)\n",
    "        gpn_output.create_dataset(name='X_'+label,data = np.array(output_cache),dtype = 'float32')\n",
    "        gpn_output.create_dataset(name='Y_'+label,data = file['Y_'+label][:],dtype='int') \n",
    "    gpn_output.close()"
   ]
  },
  {
   "cell_type": "code",
   "execution_count": null,
   "metadata": {},
   "outputs": [],
   "source": []
  }
 ],
 "metadata": {
  "kernelspec": {
   "display_name": "jax_tf",
   "language": "python",
   "name": "python3"
  },
  "language_info": {
   "codemirror_mode": {
    "name": "ipython",
    "version": 3
   },
   "file_extension": ".py",
   "mimetype": "text/x-python",
   "name": "python",
   "nbconvert_exporter": "python",
   "pygments_lexer": "ipython3",
   "version": "3.9.0"
  },
  "orig_nbformat": 4
 },
 "nbformat": 4,
 "nbformat_minor": 2
}
