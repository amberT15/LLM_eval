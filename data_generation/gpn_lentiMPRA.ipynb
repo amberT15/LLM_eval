{
 "cells": [
  {
   "cell_type": "code",
   "execution_count": 1,
   "metadata": {},
   "outputs": [
    {
     "name": "stderr",
     "output_type": "stream",
     "text": [
      "/home/ztang/.conda/envs/gpn_env/lib/python3.9/site-packages/tqdm/auto.py:21: TqdmWarning: IProgress not found. Please update jupyter and ipywidgets. See https://ipywidgets.readthedocs.io/en/stable/user_install.html\n",
      "  from .autonotebook import tqdm as notebook_tqdm\n",
      "Some weights of the model checkpoint at /home/ztang/multitask_RNA/model/GPN_human/checkpoint-2000000 were not used when initializing ConvNetModel: ['cls.decoder.3.weight', 'cls.decoder.0.bias', 'cls.decoder.2.bias', 'cls.decoder.2.weight', 'cls.decoder.3.bias', 'cls.decoder.0.weight']\n",
      "- This IS expected if you are initializing ConvNetModel from the checkpoint of a model trained on another task or with another architecture (e.g. initializing a BertForSequenceClassification model from a BertForPreTraining model).\n",
      "- This IS NOT expected if you are initializing ConvNetModel from the checkpoint of a model that you expect to be exactly identical (initializing a BertForSequenceClassification model from a BertForSequenceClassification model).\n"
     ]
    }
   ],
   "source": [
    "import gpn.model\n",
    "import matplotlib.pyplot as plt\n",
    "import pandas as pd\n",
    "import seaborn as sns\n",
    "from sklearn.preprocessing import StandardScaler\n",
    "import torch\n",
    "from transformers import AutoModel, AutoModelForMaskedLM, AutoTokenizer\n",
    "import h5py\n",
    "import sys\n",
    "from tqdm import tqdm\n",
    "import numpy as np\n",
    "sys.path.append('../')\n",
    "import utils\n",
    "import os\n",
    "from tqdm import tqdm\n",
    "os.environ['CUDA_VISIBLE_DEVICES'] = '0'\n",
    "\n",
    "# model = AutoModel.from_pretrained(\"/home/ztang/multitask_RNA/model/GPN_finetune/checkpoint-2000000\").to('cuda')\n",
    "# tokenizer = AutoTokenizer.from_pretrained(\"/home/ztang/multitask_RNA/model/GPN_finetune/checkpoint-2000000\")\n",
    "# model = AutoModel.from_pretrained('songlab/gpn-brassicales').to('cuda')\n",
    "# tokenizer = AutoTokenizer.from_pretrained('songlab/gpn-brassicales')\n",
    " \n",
    "model = AutoModel.from_pretrained(\"/home/ztang/multitask_RNA/model/GPN_human/checkpoint-2000000\").to('cuda')\n",
    "tokenizer = AutoTokenizer.from_pretrained(\"/home/ztang/multitask_RNA/model/GPN_human/checkpoint-2000000\")\n",
    "model.eval();\n",
    "\n",
    "\n",
    "\n",
    "\n",
    "celltype = 'HepG2'\n",
    "\n",
    "file = h5py.File('/home/ztang/multitask_RNA/data/lenti_MPRA/HepG2_data.h5','r')"
   ]
  },
  {
   "cell_type": "code",
   "execution_count": 2,
   "metadata": {},
   "outputs": [
    {
     "name": "stderr",
     "output_type": "stream",
     "text": [
      "  0%|          | 0/4372 [00:00<?, ?it/s]/home/ztang/.conda/envs/gpn_env/lib/python3.9/site-packages/torch/nn/modules/conv.py:309: UserWarning: Applied workaround for CuDNN issue, install nvrtc.so (Triggered internally at ../aten/src/ATen/native/cudnn/Conv_v8.cpp:80.)\n",
      "  return F.conv1d(input, weight, bias, self.stride,\n",
      "100%|██████████| 4372/4372 [02:21<00:00, 30.96it/s]\n"
     ]
    },
    {
     "data": {
      "text/plain": [
       "<HDF5 dataset \"mean\": shape (139877,), type \"<f8\">"
      ]
     },
     "execution_count": 2,
     "metadata": {},
     "output_type": "execute_result"
    }
   ],
   "source": [
    "gpn_output = h5py.File('../../data/lenti_MPRA_embed/gpn_'+celltype+'.h5','w')\n",
    "batch_size = 32\n",
    "output_cache = []\n",
    "for i in tqdm(range(0,len(file['seq']),batch_size)):\n",
    "\n",
    "    seq = file['seq'][i:i+batch_size].astype('U230')\n",
    "    input_ids = tokenizer(seq.tolist(), return_tensors=\"pt\", return_attention_mask=False, return_token_type_ids=False)[\"input_ids\"]\n",
    "    with torch.no_grad():\n",
    "        output_seq = model(input_ids.to('cuda')).last_hidden_state.cpu().detach().numpy()\n",
    "    output_cache.extend(output_seq)\n",
    "gpn_output.create_dataset(name='seq',data = np.array(output_cache))\n",
    "gpn_output.create_dataset(name='mean',data = file['mean'][:])\n"
   ]
  },
  {
   "cell_type": "code",
   "execution_count": 3,
   "metadata": {},
   "outputs": [
    {
     "data": {
      "text/plain": [
       "<KeysViewHDF5 ['mean', 'seq']>"
      ]
     },
     "execution_count": 3,
     "metadata": {},
     "output_type": "execute_result"
    }
   ],
   "source": [
    "gpn_output.keys()"
   ]
  },
  {
   "cell_type": "code",
   "execution_count": 4,
   "metadata": {},
   "outputs": [],
   "source": [
    "gpn_output.close()"
   ]
  },
  {
   "cell_type": "code",
   "execution_count": 5,
   "metadata": {},
   "outputs": [
    {
     "data": {
      "text/plain": [
       "139877"
      ]
     },
     "execution_count": 5,
     "metadata": {},
     "output_type": "execute_result"
    }
   ],
   "source": [
    "len(file['seq'])"
   ]
  },
  {
   "cell_type": "code",
   "execution_count": 14,
   "metadata": {},
   "outputs": [
    {
     "data": {
      "text/plain": [
       "5"
      ]
     },
     "execution_count": 14,
     "metadata": {},
     "output_type": "execute_result"
    }
   ],
   "source": [
    "len(seq)"
   ]
  },
  {
   "cell_type": "code",
   "execution_count": 8,
   "metadata": {},
   "outputs": [],
   "source": [
    "gpn_output.close()"
   ]
  },
  {
   "cell_type": "code",
   "execution_count": null,
   "metadata": {},
   "outputs": [],
   "source": []
  },
  {
   "cell_type": "code",
   "execution_count": null,
   "metadata": {},
   "outputs": [],
   "source": []
  },
  {
   "cell_type": "code",
   "execution_count": null,
   "metadata": {},
   "outputs": [],
   "source": []
  }
 ],
 "metadata": {
  "kernelspec": {
   "display_name": "jax_tf",
   "language": "python",
   "name": "python3"
  },
  "language_info": {
   "codemirror_mode": {
    "name": "ipython",
    "version": 3
   },
   "file_extension": ".py",
   "mimetype": "text/x-python",
   "name": "python",
   "nbconvert_exporter": "python",
   "pygments_lexer": "ipython3",
   "version": "3.9.0"
  },
  "orig_nbformat": 4
 },
 "nbformat": 4,
 "nbformat_minor": 2
}
