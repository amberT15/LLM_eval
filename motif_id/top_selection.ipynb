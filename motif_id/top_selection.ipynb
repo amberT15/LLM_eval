{
 "cells": [
  {
   "cell_type": "code",
   "execution_count": 1,
   "metadata": {},
   "outputs": [
    {
     "name": "stderr",
     "output_type": "stream",
     "text": [
      "2024-02-06 01:01:21.646134: I tensorflow/core/platform/cpu_feature_guard.cc:182] This TensorFlow binary is optimized to use available CPU instructions in performance-critical operations.\n",
      "To enable the following instructions: SSE4.1 SSE4.2 AVX AVX2 FMA, in other operations, rebuild TensorFlow with the appropriate compiler flags.\n"
     ]
    }
   ],
   "source": [
    "import tensorflow as tf\n",
    "from tensorflow import keras\n",
    "import os\n",
    "import glob\n",
    "import h5py\n",
    "import numpy as np\n",
    "import pickle as pkl\n",
    "from tqdm import tqdm\n",
    "from sklearn import model_selection\n",
    "import scipy.stats\n",
    "from sklearn.metrics import mean_squared_error\n",
    "os.environ['CUDA_VISIBLE_DEVICES'] = '1'"
   ]
  },
  {
   "cell_type": "markdown",
   "metadata": {},
   "source": [
    "## CHIP experiments"
   ]
  },
  {
   "cell_type": "code",
   "execution_count": 2,
   "metadata": {},
   "outputs": [
    {
     "name": "stderr",
     "output_type": "stream",
     "text": [
      "2024-02-06 01:01:28.653906: I tensorflow/core/common_runtime/gpu/gpu_device.cc:1635] Created device /job:localhost/replica:0/task:0/device:GPU:0 with 78973 MB memory:  -> device: 0, name: NVIDIA A100 80GB PCIe, pci bus id: 0000:47:00.0, compute capability: 8.0\n",
      "/home/ztang/.conda/envs/jax_tf/lib/python3.9/site-packages/keras/initializers/initializers.py:120: UserWarning: The initializer HeUniform is unseeded and being called multiple times, which will return identical values each time (even if the initializer is unseeded). Please update your code to provide a seed to the initializer, or avoid using the same initalizer instance more than once.\n",
      "  warnings.warn(\n",
      "2024-02-06 01:01:29.959920: I tensorflow/compiler/xla/stream_executor/cuda/cuda_dnn.cc:424] Loaded cuDNN version 8800\n"
     ]
    },
    {
     "name": "stdout",
     "output_type": "stream",
     "text": [
      "58/58 [==============================] - 1s 1ms/step\n"
     ]
    },
    {
     "name": "stderr",
     "output_type": "stream",
     "text": [
      "2024-02-06 01:01:30.453517: I tensorflow/compiler/xla/stream_executor/cuda/cuda_blas.cc:637] TensorFloat-32 will be used for the matrix multiplication. This will only be logged once.\n"
     ]
    },
    {
     "name": "stdout",
     "output_type": "stream",
     "text": [
      "62/62 [==============================] - 0s 1ms/step\n",
      "61/61 [==============================] - 0s 1ms/step\n",
      "23/23 [==============================] - 0s 3ms/step\n",
      "21/21 [==============================] - 0s 2ms/step\n",
      "137/137 [==============================] - 0s 1ms/step\n",
      "71/71 [==============================] - 0s 1ms/step\n",
      "76/76 [==============================] - 0s 1ms/step\n",
      "25/25 [==============================] - 0s 2ms/step\n",
      "57/57 [==============================] - 0s 1ms/step\n"
     ]
    }
   ],
   "source": [
    "exp_list = glob.glob('../model/chip_model/chip_CNN/*.h5')\n",
    "for file in exp_list:\n",
    "    exp = file.split('/')[-1][:-3]\n",
    "\n",
    "    model = tf.keras.models.load_model(file)\n",
    "    data = h5py.File('../data/chip/'+exp+'_200.h5','r')\n",
    "\n",
    "    x_test = np.swapaxes(data['x_test'][()],1,2)\n",
    "    y_test = data['y_test'][()]\n",
    "    input_layer = model.input \n",
    "    logit_layer = model.layers[-2].output\n",
    "    logit_model = tf.keras.models.Model(input_layer,logit_layer)\n",
    "    \n",
    "    y_pred = logit_model.predict(x_test,batch_size=128)\n",
    "    test_strength = np.argsort(np.squeeze(y_pred))\n",
    "    top_k = test_strength[-500:][::-1]\n",
    "    top_x = x_test[top_k]\n",
    "\n",
    "    flip_x = np.swapaxes(top_x,1,2)\n",
    "    np.savez('./top_seq/chip/'+exp+'.npz',flip_x,top_k)\n",
    "    tf.keras.backend.clear_session()\n",
    "\n",
    "    "
   ]
  },
  {
   "cell_type": "markdown",
   "metadata": {},
   "source": [
    "## INSERT"
   ]
  },
  {
   "cell_type": "code",
   "execution_count": 3,
   "metadata": {},
   "outputs": [
    {
     "name": "stdout",
     "output_type": "stream",
     "text": [
      "36/36 [==============================] - 0s 4ms/step\n"
     ]
    }
   ],
   "source": [
    "model = tf.keras.models.load_model('../model/RNAenlong/CNN.h5')\n",
    "dataset = '../data/RNAenlong/insert_dataset.h5'\n",
    "f = h5py.File(dataset,'r')\n",
    "x_test = f['X_test'][()]\n",
    "y_test = f['Y_test'][()]\n",
    "\n",
    "y_pred = model.predict(x_test)\n",
    "test_strength = np.argsort(np.squeeze(y_pred))\n",
    "top_k = test_strength[-500:][::-1]\n",
    "top_x = x_test[top_k]\n",
    "\n",
    "flip_x = np.swapaxes(top_x,1,2)\n",
    "np.savez('./top_seq/insert.npz',flip_x,top_k)\n",
    "\n",
    "# y_label = np.log(y_test+1)\n",
    "# pearsonr = scipy.stats.pearsonr(y_label[:,0], y_pred[:,0])\n",
    "# mse = mean_squared_error(y_label[:,0], y_pred[:,0])\n",
    "# print(\"PR:\" + str(pearsonr[0]))\n",
    "# print(\"MSE:\" + str(mse))\n",
    "\n",
    "\n"
   ]
  },
  {
   "cell_type": "markdown",
   "metadata": {},
   "source": [
    "## CLIP"
   ]
  },
  {
   "cell_type": "code",
   "execution_count": 4,
   "metadata": {},
   "outputs": [
    {
     "name": "stdout",
     "output_type": "stream",
     "text": [
      "52/52 [==============================] - 0s 814us/step\n",
      "6/6 [==============================] - 0s 8ms/step\n",
      "10/10 [==============================] - 0s 5ms/step\n",
      "11/11 [==============================] - 0s 5ms/step\n",
      "15/15 [==============================] - 0s 3ms/step\n",
      "26/26 [==============================] - 0s 2ms/step\n",
      "9/9 [==============================] - 0s 6ms/step\n",
      "29/29 [==============================] - 0s 2ms/step\n",
      "19/19 [==============================] - 0s 3ms/step\n",
      "23/23 [==============================] - 0s 2ms/step\n"
     ]
    }
   ],
   "source": [
    "exp_list = glob.glob('../model/clip_model/eclip_CNN/*.h5')\n",
    "for file in exp_list:\n",
    "    exp = file.split('/')[-1][:-3]\n",
    "\n",
    "    model = tf.keras.models.load_model(file)\n",
    "    data = h5py.File('../data/eclip/'+exp+'_K562_200.h5','r')\n",
    "\n",
    "    x_test = np.swapaxes(data['X_test'][()],1,2)[:,:,:4]\n",
    "    y_test = data['Y_test'][()]\n",
    "    input_layer = model.input \n",
    "    logit_layer = model.layers[-2].output\n",
    "    logit_model = tf.keras.models.Model(input_layer,logit_layer)\n",
    "    \n",
    "    y_pred = logit_model.predict(x_test,batch_size=128)\n",
    "    test_strength = np.argsort(np.squeeze(y_pred))\n",
    "    top_k = test_strength[-500:][::-1]\n",
    "    top_x = x_test[top_k]\n",
    "\n",
    "    flip_x = np.swapaxes(top_x,1,2)\n",
    "    np.savez('./top_seq/clip/'+exp+'.npz',flip_x,top_k)\n",
    "    tf.keras.backend.clear_session()"
   ]
  },
  {
   "cell_type": "markdown",
   "metadata": {},
   "source": [
    "## LENTI"
   ]
  },
  {
   "cell_type": "code",
   "execution_count": 5,
   "metadata": {},
   "outputs": [
    {
     "name": "stderr",
     "output_type": "stream",
     "text": [
      "/home/ztang/.conda/envs/jax_tf/lib/python3.9/site-packages/keras/initializers/initializers.py:120: UserWarning: The initializer RandomNormal is unseeded and being called multiple times, which will return identical values each time (even if the initializer is unseeded). Please update your code to provide a seed to the initializer, or avoid using the same initalizer instance more than once.\n",
      "  warnings.warn(\n"
     ]
    },
    {
     "name": "stdout",
     "output_type": "stream",
     "text": [
      "110/110 [==============================] - 1s 4ms/step\n",
      "177/177 [==============================] - 1s 4ms/step\n"
     ]
    }
   ],
   "source": [
    "for ct in ['HepG2','K562']:\n",
    "    model = tf.keras.models.load_model('../model/lenti_MPRA/lenti_MPRA_onehot/'+ct+'/ResNet.h5')\n",
    "    f = h5py.File('../data/lenti_MPRA/'+ct+'_onehot.h5','r')\n",
    "    x = f['onehot'][()]\n",
    "    y = f['target'][()]\n",
    "    x = np.swapaxes(x,1,2)\n",
    "    x_train, x_test, y_train, y_test = model_selection.train_test_split(x, y, test_size=0.1,random_state=42)\n",
    "    \n",
    "    y_pred = model.predict(x_test,batch_size=128)\n",
    "    test_strength = np.argsort(np.squeeze(y_pred))\n",
    "    top_k = test_strength[-500:][::-1]\n",
    "    top_x = x_test[top_k]\n",
    "\n",
    "    flip_x = np.swapaxes(top_x,1,2)\n",
    "    np.savez('./top_seq/lenti_'+ct+'.npz',flip_x,top_k)"
   ]
  },
  {
   "cell_type": "code",
   "execution_count": null,
   "metadata": {},
   "outputs": [],
   "source": []
  }
 ],
 "metadata": {
  "kernelspec": {
   "display_name": "jax_tf",
   "language": "python",
   "name": "python3"
  },
  "language_info": {
   "codemirror_mode": {
    "name": "ipython",
    "version": 3
   },
   "file_extension": ".py",
   "mimetype": "text/x-python",
   "name": "python",
   "nbconvert_exporter": "python",
   "pygments_lexer": "ipython3",
   "version": "3.9.16"
  }
 },
 "nbformat": 4,
 "nbformat_minor": 2
}
