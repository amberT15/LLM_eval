{
 "cells": [
  {
   "cell_type": "code",
   "execution_count": 1,
   "metadata": {},
   "outputs": [],
   "source": [
    "import os\n",
    "os.environ['CUDA_VISIBLE_DEVICES'] = '2'"
   ]
  },
  {
   "cell_type": "code",
   "execution_count": 3,
   "metadata": {},
   "outputs": [
    {
     "name": "stderr",
     "output_type": "stream",
     "text": [
      "2024-05-31 11:35:04.723661: I tensorflow/core/platform/cpu_feature_guard.cc:182] This TensorFlow binary is optimized to use available CPU instructions in performance-critical operations.\n",
      "To enable the following instructions: SSE4.1 SSE4.2 AVX AVX2 FMA, in other operations, rebuild TensorFlow with the appropriate compiler flags.\n"
     ]
    }
   ],
   "source": [
    "import h5py\n",
    "import sys\n",
    "import numpy as np\n",
    "import tensorflow as tf\n",
    "import mpra_model\n",
    "from sklearn import model_selection\n",
    "import scipy.stats\n",
    "celltype = 'HepG2'\n",
    "file = '../data/lenti_MPRA/'+celltype+'_data.h5'"
   ]
  },
  {
   "cell_type": "code",
   "execution_count": 3,
   "metadata": {},
   "outputs": [],
   "source": [
    "f = h5py.File(file, 'r')\n",
    "x_train = f['onehot_train'][:]\n",
    "x_valid = f['onehot_valid'][:]\n",
    "x_test = f['onehot_test'][:]\n",
    "y_train = f['y_train'][:]\n",
    "y_valid = f['y_valid'][:]\n",
    "y_test = f['y_test'][:]"
   ]
  },
  {
   "cell_type": "code",
   "execution_count": 4,
   "metadata": {},
   "outputs": [],
   "source": [
    "cnn_config = {\n",
    "    'activation':'exponential',\n",
    "    'reduce_dim': 196,\n",
    "    'conv1_filter':196,\n",
    "    'conv1_kernel':7,\n",
    "    'dropout1':0.2,\n",
    "    'res_pool':5,\n",
    "    'res_dropout':0.2,\n",
    "    'conv2_filter':256,\n",
    "    'conv2_kernel':7,\n",
    "    'pool2_size':4,\n",
    "    'dropout2':0.2,\n",
    "    'dense':512,\n",
    "    'dense2':256\n",
    "}"
   ]
  },
  {
   "cell_type": "code",
   "execution_count": 5,
   "metadata": {},
   "outputs": [
    {
     "name": "stderr",
     "output_type": "stream",
     "text": [
      "2024-05-31 11:35:09.113140: I tensorflow/core/common_runtime/gpu/gpu_device.cc:1635] Created device /job:localhost/replica:0/task:0/device:GPU:0 with 79078 MB memory:  -> device: 0, name: NVIDIA A100 80GB PCIe, pci bus id: 0000:85:00.0, compute capability: 8.0\n",
      "/home/ztang/.conda/envs/jax_tf/lib/python3.9/site-packages/keras/initializers/initializers.py:120: UserWarning: The initializer GlorotNormal is unseeded and being called multiple times, which will return identical values each time (even if the initializer is unseeded). Please update your code to provide a seed to the initializer, or avoid using the same initalizer instance more than once.\n",
      "  warnings.warn(\n"
     ]
    }
   ],
   "source": [
    "model_func = getattr(mpra_model,'LegNet')\n",
    "model = model_func((230,4),config = cnn_config)"
   ]
  },
  {
   "cell_type": "code",
   "execution_count": 6,
   "metadata": {},
   "outputs": [
    {
     "name": "stderr",
     "output_type": "stream",
     "text": [
      "2024-05-22 12:58:01.080562: I tensorflow/core/common_runtime/gpu/gpu_device.cc:1635] Created device /job:localhost/replica:0/task:0/device:GPU:0 with 79078 MB memory:  -> device: 0, name: NVIDIA A100 80GB PCIe, pci bus id: 0000:85:00.0, compute capability: 8.0\n",
      "/home/ztang/.conda/envs/jax_tf/lib/python3.9/site-packages/keras/initializers/initializers.py:120: UserWarning: The initializer RandomNormal is unseeded and being called multiple times, which will return identical values each time (even if the initializer is unseeded). Please update your code to provide a seed to the initializer, or avoid using the same initalizer instance more than once.\n",
      "  warnings.warn(\n"
     ]
    },
    {
     "name": "stdout",
     "output_type": "stream",
     "text": [
      "Epoch 1/100\n"
     ]
    },
    {
     "name": "stderr",
     "output_type": "stream",
     "text": [
      "2024-05-22 12:58:05.358415: I tensorflow/compiler/xla/stream_executor/cuda/cuda_dnn.cc:424] Loaded cuDNN version 8800\n",
      "2024-05-22 12:58:05.631255: I tensorflow/compiler/xla/stream_executor/cuda/cuda_blas.cc:637] TensorFloat-32 will be used for the matrix multiplication. This will only be logged once.\n",
      "2024-05-22 12:58:05.648565: I tensorflow/compiler/xla/service/service.cc:169] XLA service 0x561602c87160 initialized for platform CUDA (this does not guarantee that XLA will be used). Devices:\n",
      "2024-05-22 12:58:05.648604: I tensorflow/compiler/xla/service/service.cc:177]   StreamExecutor device (0): NVIDIA A100 80GB PCIe, Compute Capability 8.0\n",
      "2024-05-22 12:58:05.651822: I tensorflow/compiler/mlir/tensorflow/utils/dump_mlir_util.cc:269] disabling MLIR crash reproducer, set env var `MLIR_CRASH_REPRODUCER_DIRECTORY` to enable.\n",
      "2024-05-22 12:58:05.761630: I ./tensorflow/compiler/jit/device_compiler.h:180] Compiled cluster using XLA!  This line is logged at most once for the lifetime of the process.\n"
     ]
    },
    {
     "name": "stdout",
     "output_type": "stream",
     "text": [
      "1537/1537 - 29s - loss: 0.4584 - mse: 0.4584 - mae: 0.5197 - val_loss: 0.6925 - val_mse: 0.6925 - val_mae: 0.6717 - lr: 0.0010 - 29s/epoch - 19ms/step\n",
      "Epoch 2/100\n",
      "1537/1537 - 23s - loss: 0.3750 - mse: 0.3750 - mae: 0.4652 - val_loss: 0.3369 - val_mse: 0.3369 - val_mae: 0.4380 - lr: 0.0010 - 23s/epoch - 15ms/step\n",
      "Epoch 3/100\n",
      "1537/1537 - 23s - loss: 0.3483 - mse: 0.3483 - mae: 0.4482 - val_loss: 0.3209 - val_mse: 0.3209 - val_mae: 0.4286 - lr: 0.0010 - 23s/epoch - 15ms/step\n",
      "Epoch 4/100\n",
      "1537/1537 - 23s - loss: 0.3300 - mse: 0.3300 - mae: 0.4366 - val_loss: 0.3382 - val_mse: 0.3382 - val_mae: 0.4280 - lr: 0.0010 - 23s/epoch - 15ms/step\n",
      "Epoch 5/100\n",
      "1537/1537 - 23s - loss: 0.3166 - mse: 0.3166 - mae: 0.4272 - val_loss: 0.3476 - val_mse: 0.3476 - val_mae: 0.4320 - lr: 0.0010 - 23s/epoch - 15ms/step\n",
      "Epoch 6/100\n",
      "1537/1537 - 23s - loss: 0.3035 - mse: 0.3035 - mae: 0.4193 - val_loss: 0.3118 - val_mse: 0.3118 - val_mae: 0.4167 - lr: 0.0010 - 23s/epoch - 15ms/step\n",
      "Epoch 7/100\n",
      "1537/1537 - 23s - loss: 0.2913 - mse: 0.2913 - mae: 0.4109 - val_loss: 0.3039 - val_mse: 0.3039 - val_mae: 0.4123 - lr: 0.0010 - 23s/epoch - 15ms/step\n",
      "Epoch 8/100\n",
      "1537/1537 - 23s - loss: 0.2816 - mse: 0.2816 - mae: 0.4051 - val_loss: 0.3029 - val_mse: 0.3029 - val_mae: 0.4148 - lr: 0.0010 - 23s/epoch - 15ms/step\n",
      "Epoch 9/100\n",
      "1537/1537 - 23s - loss: 0.2702 - mse: 0.2702 - mae: 0.3976 - val_loss: 0.2922 - val_mse: 0.2922 - val_mae: 0.4063 - lr: 0.0010 - 23s/epoch - 15ms/step\n",
      "Epoch 10/100\n",
      "1537/1537 - 23s - loss: 0.2623 - mse: 0.2623 - mae: 0.3918 - val_loss: 0.3041 - val_mse: 0.3041 - val_mae: 0.4167 - lr: 0.0010 - 23s/epoch - 15ms/step\n",
      "Epoch 11/100\n",
      "1537/1537 - 23s - loss: 0.2530 - mse: 0.2530 - mae: 0.3860 - val_loss: 0.3002 - val_mse: 0.3002 - val_mae: 0.4153 - lr: 0.0010 - 23s/epoch - 15ms/step\n",
      "Epoch 12/100\n",
      "1537/1537 - 23s - loss: 0.2460 - mse: 0.2460 - mae: 0.3813 - val_loss: 0.3387 - val_mse: 0.3387 - val_mae: 0.4291 - lr: 0.0010 - 23s/epoch - 15ms/step\n",
      "Epoch 13/100\n",
      "1537/1537 - 23s - loss: 0.2392 - mse: 0.2392 - mae: 0.3763 - val_loss: 0.2952 - val_mse: 0.2952 - val_mae: 0.4054 - lr: 0.0010 - 23s/epoch - 15ms/step\n",
      "Epoch 14/100\n",
      "1537/1537 - 23s - loss: 0.2335 - mse: 0.2335 - mae: 0.3717 - val_loss: 0.3010 - val_mse: 0.3010 - val_mae: 0.4060 - lr: 0.0010 - 23s/epoch - 15ms/step\n",
      "Epoch 15/100\n",
      "1537/1537 - 23s - loss: 0.2128 - mse: 0.2128 - mae: 0.3564 - val_loss: 0.2996 - val_mse: 0.2996 - val_mae: 0.4033 - lr: 2.0000e-04 - 23s/epoch - 15ms/step\n",
      "Epoch 16/100\n",
      "1537/1537 - 23s - loss: 0.2052 - mse: 0.2052 - mae: 0.3503 - val_loss: 0.2880 - val_mse: 0.2880 - val_mae: 0.3996 - lr: 2.0000e-04 - 23s/epoch - 15ms/step\n",
      "Epoch 17/100\n",
      "1537/1537 - 23s - loss: 0.2015 - mse: 0.2015 - mae: 0.3473 - val_loss: 0.2932 - val_mse: 0.2932 - val_mae: 0.3999 - lr: 2.0000e-04 - 23s/epoch - 15ms/step\n",
      "Epoch 18/100\n",
      "1537/1537 - 23s - loss: 0.1996 - mse: 0.1996 - mae: 0.3457 - val_loss: 0.2926 - val_mse: 0.2926 - val_mae: 0.4008 - lr: 2.0000e-04 - 23s/epoch - 15ms/step\n",
      "Epoch 19/100\n",
      "1537/1537 - 23s - loss: 0.1964 - mse: 0.1964 - mae: 0.3429 - val_loss: 0.3034 - val_mse: 0.3034 - val_mae: 0.4062 - lr: 2.0000e-04 - 23s/epoch - 15ms/step\n",
      "Epoch 20/100\n",
      "1537/1537 - 23s - loss: 0.1950 - mse: 0.1950 - mae: 0.3421 - val_loss: 0.2860 - val_mse: 0.2860 - val_mae: 0.3977 - lr: 2.0000e-04 - 23s/epoch - 15ms/step\n",
      "Epoch 21/100\n",
      "1537/1537 - 23s - loss: 0.1924 - mse: 0.1924 - mae: 0.3400 - val_loss: 0.2874 - val_mse: 0.2874 - val_mae: 0.3981 - lr: 2.0000e-04 - 23s/epoch - 15ms/step\n",
      "Epoch 22/100\n",
      "1537/1537 - 23s - loss: 0.1907 - mse: 0.1907 - mae: 0.3383 - val_loss: 0.2919 - val_mse: 0.2919 - val_mae: 0.3993 - lr: 2.0000e-04 - 23s/epoch - 15ms/step\n",
      "Epoch 23/100\n",
      "1537/1537 - 23s - loss: 0.1894 - mse: 0.1894 - mae: 0.3371 - val_loss: 0.2841 - val_mse: 0.2841 - val_mae: 0.3974 - lr: 2.0000e-04 - 23s/epoch - 15ms/step\n",
      "Epoch 24/100\n",
      "1537/1537 - 23s - loss: 0.1867 - mse: 0.1867 - mae: 0.3352 - val_loss: 0.2913 - val_mse: 0.2913 - val_mae: 0.4007 - lr: 2.0000e-04 - 23s/epoch - 15ms/step\n",
      "Epoch 25/100\n",
      "1537/1537 - 23s - loss: 0.1860 - mse: 0.1860 - mae: 0.3348 - val_loss: 0.2970 - val_mse: 0.2970 - val_mae: 0.4013 - lr: 2.0000e-04 - 23s/epoch - 15ms/step\n",
      "Epoch 26/100\n",
      "1537/1537 - 23s - loss: 0.1839 - mse: 0.1839 - mae: 0.3329 - val_loss: 0.2873 - val_mse: 0.2873 - val_mae: 0.3981 - lr: 2.0000e-04 - 23s/epoch - 15ms/step\n",
      "Epoch 27/100\n",
      "1537/1537 - 23s - loss: 0.1827 - mse: 0.1827 - mae: 0.3314 - val_loss: 0.2838 - val_mse: 0.2838 - val_mae: 0.3973 - lr: 2.0000e-04 - 23s/epoch - 15ms/step\n",
      "Epoch 28/100\n",
      "1537/1537 - 23s - loss: 0.1813 - mse: 0.1813 - mae: 0.3301 - val_loss: 0.3050 - val_mse: 0.3050 - val_mae: 0.4071 - lr: 2.0000e-04 - 23s/epoch - 15ms/step\n",
      "Epoch 29/100\n",
      "1537/1537 - 23s - loss: 0.1807 - mse: 0.1807 - mae: 0.3299 - val_loss: 0.2936 - val_mse: 0.2936 - val_mae: 0.4010 - lr: 2.0000e-04 - 23s/epoch - 15ms/step\n",
      "Epoch 30/100\n",
      "1537/1537 - 23s - loss: 0.1789 - mse: 0.1789 - mae: 0.3284 - val_loss: 0.2825 - val_mse: 0.2825 - val_mae: 0.3968 - lr: 2.0000e-04 - 23s/epoch - 15ms/step\n",
      "Epoch 31/100\n",
      "1537/1537 - 23s - loss: 0.1776 - mse: 0.1776 - mae: 0.3271 - val_loss: 0.2869 - val_mse: 0.2869 - val_mae: 0.3987 - lr: 2.0000e-04 - 23s/epoch - 15ms/step\n",
      "Epoch 32/100\n",
      "1537/1537 - 23s - loss: 0.1774 - mse: 0.1774 - mae: 0.3271 - val_loss: 0.3046 - val_mse: 0.3046 - val_mae: 0.4064 - lr: 2.0000e-04 - 23s/epoch - 15ms/step\n",
      "Epoch 33/100\n",
      "1537/1537 - 23s - loss: 0.1769 - mse: 0.1769 - mae: 0.3265 - val_loss: 0.2848 - val_mse: 0.2848 - val_mae: 0.3977 - lr: 2.0000e-04 - 23s/epoch - 15ms/step\n",
      "Epoch 34/100\n",
      "1537/1537 - 23s - loss: 0.1746 - mse: 0.1746 - mae: 0.3249 - val_loss: 0.2930 - val_mse: 0.2930 - val_mae: 0.4002 - lr: 2.0000e-04 - 23s/epoch - 15ms/step\n",
      "Epoch 35/100\n",
      "1537/1537 - 23s - loss: 0.1739 - mse: 0.1739 - mae: 0.3238 - val_loss: 0.2958 - val_mse: 0.2958 - val_mae: 0.4008 - lr: 2.0000e-04 - 23s/epoch - 15ms/step\n",
      "Epoch 36/100\n",
      "1537/1537 - 23s - loss: 0.1713 - mse: 0.1713 - mae: 0.3214 - val_loss: 0.2891 - val_mse: 0.2891 - val_mae: 0.3983 - lr: 4.0000e-05 - 23s/epoch - 15ms/step\n",
      "Epoch 37/100\n",
      "1537/1537 - 23s - loss: 0.1702 - mse: 0.1702 - mae: 0.3205 - val_loss: 0.2920 - val_mse: 0.2920 - val_mae: 0.3999 - lr: 4.0000e-05 - 23s/epoch - 15ms/step\n",
      "Epoch 38/100\n",
      "1537/1537 - 23s - loss: 0.1691 - mse: 0.1691 - mae: 0.3194 - val_loss: 0.2889 - val_mse: 0.2889 - val_mae: 0.3982 - lr: 4.0000e-05 - 23s/epoch - 15ms/step\n",
      "Epoch 39/100\n",
      "1537/1537 - 23s - loss: 0.1685 - mse: 0.1685 - mae: 0.3192 - val_loss: 0.2880 - val_mse: 0.2880 - val_mae: 0.3981 - lr: 4.0000e-05 - 23s/epoch - 15ms/step\n",
      "Epoch 40/100\n",
      "1537/1537 - 23s - loss: 0.1676 - mse: 0.1676 - mae: 0.3176 - val_loss: 0.2905 - val_mse: 0.2905 - val_mae: 0.3989 - lr: 4.0000e-05 - 23s/epoch - 15ms/step\n",
      "769/769 [==============================] - 1s 1ms/step\n"
     ]
    },
    {
     "ename": "TypeError",
     "evalue": "ufunc 'isnan' not supported for the input types, and the inputs could not be safely coerced to any supported types according to the casting rule ''safe''",
     "output_type": "error",
     "traceback": [
      "\u001b[0;31m---------------------------------------------------------------------------\u001b[0m",
      "\u001b[0;31mTypeError\u001b[0m                                 Traceback (most recent call last)",
      "Cell \u001b[0;32mIn[6], line 37\u001b[0m\n\u001b[1;32m     27\u001b[0m result \u001b[38;5;241m=\u001b[39m model\u001b[38;5;241m.\u001b[39mfit(x_train,y_train,\n\u001b[1;32m     28\u001b[0m     batch_size\u001b[38;5;241m=\u001b[39m\u001b[38;5;241m128\u001b[39m,\n\u001b[1;32m     29\u001b[0m     validation_data\u001b[38;5;241m=\u001b[39m(x_valid,y_valid),\n\u001b[0;32m   (...)\u001b[0m\n\u001b[1;32m     33\u001b[0m     callbacks\u001b[38;5;241m=\u001b[39m[earlyStopping_callback,checkpoint,reduce_lr],\n\u001b[1;32m     34\u001b[0m )\n\u001b[1;32m     36\u001b[0m y_pred \u001b[38;5;241m=\u001b[39m model\u001b[38;5;241m.\u001b[39mpredict(x_test)\n\u001b[0;32m---> 37\u001b[0m pr \u001b[38;5;241m=\u001b[39m \u001b[43mscipy\u001b[49m\u001b[38;5;241;43m.\u001b[39;49m\u001b[43mstats\u001b[49m\u001b[38;5;241;43m.\u001b[39;49m\u001b[43mpearsonr\u001b[49m\u001b[43m(\u001b[49m\u001b[43mnp\u001b[49m\u001b[38;5;241;43m.\u001b[39;49m\u001b[43msqueeze\u001b[49m\u001b[43m(\u001b[49m\u001b[43my_pred\u001b[49m\u001b[43m)\u001b[49m\u001b[43m,\u001b[49m\u001b[43my_test\u001b[49m\u001b[43m)\u001b[49m[\u001b[38;5;241m0\u001b[39m]\n\u001b[1;32m     39\u001b[0m \u001b[38;5;28mprint\u001b[39m(pr)\n\u001b[1;32m     40\u001b[0m \u001b[38;5;28;01mdel\u001b[39;00m model\n",
      "File \u001b[0;32m~/.conda/envs/jax_tf/lib/python3.9/site-packages/scipy/stats/_stats_py.py:4474\u001b[0m, in \u001b[0;36mpearsonr\u001b[0;34m(x, y, alternative)\u001b[0m\n\u001b[1;32m   4472\u001b[0m dist \u001b[38;5;241m=\u001b[39m stats\u001b[38;5;241m.\u001b[39mbeta(ab, ab, loc\u001b[38;5;241m=\u001b[39m\u001b[38;5;241m-\u001b[39m\u001b[38;5;241m1\u001b[39m, scale\u001b[38;5;241m=\u001b[39m\u001b[38;5;241m2\u001b[39m)\n\u001b[1;32m   4473\u001b[0m \u001b[38;5;28;01mif\u001b[39;00m alternative \u001b[38;5;241m==\u001b[39m \u001b[38;5;124m'\u001b[39m\u001b[38;5;124mtwo-sided\u001b[39m\u001b[38;5;124m'\u001b[39m:\n\u001b[0;32m-> 4474\u001b[0m     prob \u001b[38;5;241m=\u001b[39m \u001b[38;5;241m2\u001b[39m\u001b[38;5;241m*\u001b[39m\u001b[43mdist\u001b[49m\u001b[38;5;241;43m.\u001b[39;49m\u001b[43msf\u001b[49m\u001b[43m(\u001b[49m\u001b[38;5;28;43mabs\u001b[39;49m\u001b[43m(\u001b[49m\u001b[43mr\u001b[49m\u001b[43m)\u001b[49m\u001b[43m)\u001b[49m\n\u001b[1;32m   4475\u001b[0m \u001b[38;5;28;01melif\u001b[39;00m alternative \u001b[38;5;241m==\u001b[39m \u001b[38;5;124m'\u001b[39m\u001b[38;5;124mless\u001b[39m\u001b[38;5;124m'\u001b[39m:\n\u001b[1;32m   4476\u001b[0m     prob \u001b[38;5;241m=\u001b[39m dist\u001b[38;5;241m.\u001b[39mcdf(r)\n",
      "File \u001b[0;32m~/.conda/envs/jax_tf/lib/python3.9/site-packages/scipy/stats/_distn_infrastructure.py:471\u001b[0m, in \u001b[0;36mrv_frozen.sf\u001b[0;34m(self, x)\u001b[0m\n\u001b[1;32m    470\u001b[0m \u001b[38;5;28;01mdef\u001b[39;00m \u001b[38;5;21msf\u001b[39m(\u001b[38;5;28mself\u001b[39m, x):\n\u001b[0;32m--> 471\u001b[0m     \u001b[38;5;28;01mreturn\u001b[39;00m \u001b[38;5;28;43mself\u001b[39;49m\u001b[38;5;241;43m.\u001b[39;49m\u001b[43mdist\u001b[49m\u001b[38;5;241;43m.\u001b[39;49m\u001b[43msf\u001b[49m\u001b[43m(\u001b[49m\u001b[43mx\u001b[49m\u001b[43m,\u001b[49m\u001b[43m \u001b[49m\u001b[38;5;241;43m*\u001b[39;49m\u001b[38;5;28;43mself\u001b[39;49m\u001b[38;5;241;43m.\u001b[39;49m\u001b[43margs\u001b[49m\u001b[43m,\u001b[49m\u001b[43m \u001b[49m\u001b[38;5;241;43m*\u001b[39;49m\u001b[38;5;241;43m*\u001b[39;49m\u001b[38;5;28;43mself\u001b[39;49m\u001b[38;5;241;43m.\u001b[39;49m\u001b[43mkwds\u001b[49m\u001b[43m)\u001b[49m\n",
      "File \u001b[0;32m~/.conda/envs/jax_tf/lib/python3.9/site-packages/scipy/stats/_distn_infrastructure.py:2265\u001b[0m, in \u001b[0;36mrv_continuous.sf\u001b[0;34m(self, x, *args, **kwds)\u001b[0m\n\u001b[1;32m   2263\u001b[0m cond \u001b[38;5;241m=\u001b[39m cond0 \u001b[38;5;241m&\u001b[39m cond1\n\u001b[1;32m   2264\u001b[0m output \u001b[38;5;241m=\u001b[39m zeros(shape(cond), dtyp)\n\u001b[0;32m-> 2265\u001b[0m place(output, (\u001b[38;5;241m1\u001b[39m\u001b[38;5;241m-\u001b[39mcond0)\u001b[38;5;241m+\u001b[39m\u001b[43mnp\u001b[49m\u001b[38;5;241;43m.\u001b[39;49m\u001b[43misnan\u001b[49m\u001b[43m(\u001b[49m\u001b[43mx\u001b[49m\u001b[43m)\u001b[49m, \u001b[38;5;28mself\u001b[39m\u001b[38;5;241m.\u001b[39mbadvalue)\n\u001b[1;32m   2266\u001b[0m place(output, cond2, \u001b[38;5;241m1.0\u001b[39m)\n\u001b[1;32m   2267\u001b[0m \u001b[38;5;28;01mif\u001b[39;00m np\u001b[38;5;241m.\u001b[39many(cond):\n",
      "\u001b[0;31mTypeError\u001b[0m: ufunc 'isnan' not supported for the input types, and the inputs could not be safely coerced to any supported types according to the casting rule ''safe''"
     ]
    }
   ],
   "source": [
    "for model in ['ResNet','rep_cnn']:\n",
    "    save_model  = '../model/lenti_MPRA/%s_%s.h5'%(model,celltype)\n",
    "    \n",
    "    model_func = getattr(mpra_model,model)\n",
    "    model = model_func((230,4),config = cnn_config)\n",
    "    \n",
    "    earlyStopping_callback = tf.keras.callbacks.EarlyStopping(\n",
    "            patience=10, restore_best_weights=True\n",
    "        )\n",
    "    reduce_lr = tf.keras.callbacks.ReduceLROnPlateau(\n",
    "            monitor='val_loss', factor=0.2,\n",
    "            patience=5, min_lr=1e-6)\n",
    "\n",
    "    optimizer = tf.keras.optimizers.Adam(learning_rate=0.001)\n",
    "\n",
    "    checkpoint = tf.keras.callbacks.ModelCheckpoint(save_model,\n",
    "                                    monitor='val_loss',\n",
    "                                    save_best_only=True,\n",
    "                                    mode = 'min',\n",
    "                                    save_freq='epoch',)\n",
    "    model.compile(\n",
    "                loss=\"mean_squared_error\",\n",
    "                metrics=[\"mse\", \"mae\"],\n",
    "                optimizer=optimizer,\n",
    "            )\n",
    "    \n",
    "    result = model.fit(x_train,y_train,\n",
    "        batch_size=128,\n",
    "        validation_data=(x_valid,y_valid),\n",
    "        epochs=100,\n",
    "        shuffle=True,\n",
    "        verbose=2,\n",
    "        callbacks=[earlyStopping_callback,checkpoint,reduce_lr],\n",
    "    )\n",
    "\n",
    "    y_pred = model.predict(x_test)\n",
    "    pr = scipy.stats.pearsonr(np.squeeze(y_pred),squeeze(y_test))[0]\n",
    "\n",
    "    print(pr)\n",
    "    del model"
   ]
  },
  {
   "cell_type": "code",
   "execution_count": 9,
   "metadata": {},
   "outputs": [],
   "source": [
    "pr = scipy.stats.pearsonr(np.squeeze(y_pred),np.squeeze(y_test))[0]"
   ]
  },
  {
   "cell_type": "code",
   "execution_count": 10,
   "metadata": {},
   "outputs": [
    {
     "data": {
      "text/plain": [
       "0.7444173017011313"
      ]
     },
     "execution_count": 10,
     "metadata": {},
     "output_type": "execute_result"
    }
   ],
   "source": [
    "pr"
   ]
  },
  {
   "cell_type": "code",
   "execution_count": null,
   "metadata": {},
   "outputs": [],
   "source": []
  }
 ],
 "metadata": {
  "kernelspec": {
   "display_name": "jax_tf",
   "language": "python",
   "name": "python3"
  },
  "language_info": {
   "codemirror_mode": {
    "name": "ipython",
    "version": 3
   },
   "file_extension": ".py",
   "mimetype": "text/x-python",
   "name": "python",
   "nbconvert_exporter": "python",
   "pygments_lexer": "ipython3",
   "version": "3.9.16"
  }
 },
 "nbformat": 4,
 "nbformat_minor": 2
}
