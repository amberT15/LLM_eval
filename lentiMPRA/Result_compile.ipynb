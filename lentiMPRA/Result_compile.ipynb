{
 "cells": [
  {
   "cell_type": "code",
   "execution_count": 1,
   "metadata": {},
   "outputs": [
    {
     "name": "stderr",
     "output_type": "stream",
     "text": [
      "2024-02-05 23:14:59.049206: I tensorflow/core/platform/cpu_feature_guard.cc:182] This TensorFlow binary is optimized to use available CPU instructions in performance-critical operations.\n",
      "To enable the following instructions: SSE4.1 SSE4.2 AVX AVX2 FMA, in other operations, rebuild TensorFlow with the appropriate compiler flags.\n"
     ]
    }
   ],
   "source": [
    "import tensorflow as tf\n",
    "from tensorflow import keras\n",
    "import h5py\n",
    "import scipy.stats\n",
    "import numpy as np\n",
    "import os\n",
    "import pandas as pd\n",
    "from sklearn import model_selection\n",
    "import glob\n",
    "os.environ['CUDA_VISIBLE_DEVICES'] = '2'"
   ]
  },
  {
   "cell_type": "code",
   "execution_count": 2,
   "metadata": {},
   "outputs": [],
   "source": [
    "result_df = pd.DataFrame(columns=['Model',\"Pearson's R\",'Cell Type'])\n",
    "celltype_list = ['K562','HepG2']\n",
    "\n",
    "model_list=[]\n",
    "pr_list = []\n",
    "ct_list = []"
   ]
  },
  {
   "cell_type": "code",
   "execution_count": 3,
   "metadata": {},
   "outputs": [
    {
     "name": "stderr",
     "output_type": "stream",
     "text": [
      "2024-02-05 23:15:01.743028: I tensorflow/core/common_runtime/gpu/gpu_device.cc:1635] Created device /job:localhost/replica:0/task:0/device:GPU:0 with 78973 MB memory:  -> device: 0, name: NVIDIA A100 80GB PCIe, pci bus id: 0000:85:00.0, compute capability: 8.0\n",
      "/home/ztang/.conda/envs/jax_tf/lib/python3.9/site-packages/keras/initializers/initializers.py:120: UserWarning: The initializer RandomNormal is unseeded and being called multiple times, which will return identical values each time (even if the initializer is unseeded). Please update your code to provide a seed to the initializer, or avoid using the same initalizer instance more than once.\n",
      "  warnings.warn(\n",
      "2024-02-05 23:15:03.040175: I tensorflow/compiler/xla/stream_executor/cuda/cuda_blas.cc:637] TensorFloat-32 will be used for the matrix multiplication. This will only be logged once.\n",
      "2024-02-05 23:15:03.136339: I tensorflow/compiler/xla/stream_executor/cuda/cuda_dnn.cc:424] Loaded cuDNN version 8800\n"
     ]
    },
    {
     "name": "stdout",
     "output_type": "stream",
     "text": [
      "708/708 [==============================] - 2s 876us/step\n",
      "708/708 [==============================] - 1s 1ms/step\n",
      "438/438 [==============================] - 1s 2ms/step\n",
      "438/438 [==============================] - 1s 969us/step\n"
     ]
    }
   ],
   "source": [
    "## One-hot input models\n",
    "for ct in celltype_list:\n",
    "\n",
    "    f = h5py.File('/home/ztang/multitask_RNA/data/lenti_MPRA/'+ct+'_onehot.h5', 'r')\n",
    "    x = f['onehot'][()]\n",
    "    y = f['target'][()]\n",
    "    x = np.swapaxes(x,1,2)\n",
    "    x_train, x_test, y_train, y_test = model_selection.train_test_split(x, y, test_size=0.1,random_state=42)\n",
    "\n",
    "    for model_f in glob.glob('../model/lenti_MPRA/lenti_MPRA_onehot/'+ct+'/*.h5'):\n",
    "        model = tf.keras.models.load_model(model_f)\n",
    "        y_pred = model.predict(x_test)\n",
    "        pr = scipy.stats.pearsonr(np.squeeze(y_pred),y_test)[0]\n",
    "        model_name = model_f.split('/')[-1][:-3]\n",
    "        model_list.append(model_name)\n",
    "        pr_list.append(pr)\n",
    "        ct_list.append(ct)\n",
    "\n",
    "#result_df = pd.DataFrame({'Model':model_list,\"Pearson's R\":pr_list,'Cell Type':ct_list})"
   ]
  },
  {
   "cell_type": "code",
   "execution_count": 4,
   "metadata": {},
   "outputs": [],
   "source": [
    "## NT saved results\n",
    "for ct in celltype_list:\n",
    "    temp_df = pd.read_csv('./results/'+ct+'_2B5_1000G_layersearch.csv')\n",
    "    best_perf = temp_df['Embedding CNN'].max()\n",
    "    model_list.append('NT')\n",
    "    pr_list.append(best_perf)\n",
    "    ct_list.append(ct)\n"
   ]
  },
  {
   "cell_type": "code",
   "execution_count": 5,
   "metadata": {},
   "outputs": [
    {
     "name": "stderr",
     "output_type": "stream",
     "text": [
      "/home/ztang/.conda/envs/jax_tf/lib/python3.9/site-packages/keras/initializers/initializers.py:120: UserWarning: The initializer RandomNormal is unseeded and being called multiple times, which will return identical values each time (even if the initializer is unseeded). Please update your code to provide a seed to the initializer, or avoid using the same initalizer instance more than once.\n",
      "  warnings.warn(\n"
     ]
    },
    {
     "name": "stdout",
     "output_type": "stream",
     "text": [
      "708/708 [==============================] - 2s 3ms/step\n",
      "438/438 [==============================] - 1s 2ms/step\n",
      "708/708 [==============================] - 1s 2ms/step\n",
      "438/438 [==============================] - 1s 2ms/step\n",
      "708/708 [==============================] - 1s 1ms/step\n",
      "438/438 [==============================] - 1s 1ms/step\n",
      "708/708 [==============================] - 1s 1ms/step\n",
      "438/438 [==============================] - 1s 2ms/step\n"
     ]
    }
   ],
   "source": [
    "## Embedding results\n",
    "for model_name in ['gpn','hyena','sei','dnabert2']:\n",
    "    for ct in celltype_list:\n",
    "        f = h5py.File('../data/lenti_MPRA_embed/'+model_name+'_'+ct+'.h5', 'r')\n",
    "        x = f['seq']\n",
    "        y = f['mean']\n",
    "        x_train, x_test, y_train, y_test = model_selection.train_test_split(range(len(x)), range(len(y)), \n",
    "                                                                            test_size=0.1,random_state=42)\n",
    "        x_test = x[np.sort(x_test)]\n",
    "        y_test = y[np.sort(y_test)]\n",
    "       \n",
    "        model = tf.keras.models.load_model('../model/lenti_MPRA/lenti_MPRA_embed/'+ct+'/'+model_name+'.h5')\n",
    "        y_pred = model.predict(x_test)\n",
    "        pr = scipy.stats.pearsonr(np.squeeze(y_pred),y_test)[0]\n",
    "        model_list.append(model_name)\n",
    "        pr_list.append(pr)\n",
    "        ct_list.append(ct)"
   ]
  },
  {
   "cell_type": "code",
   "execution_count": 6,
   "metadata": {},
   "outputs": [
    {
     "data": {
      "text/html": [
       "<div>\n",
       "<style scoped>\n",
       "    .dataframe tbody tr th:only-of-type {\n",
       "        vertical-align: middle;\n",
       "    }\n",
       "\n",
       "    .dataframe tbody tr th {\n",
       "        vertical-align: top;\n",
       "    }\n",
       "\n",
       "    .dataframe thead th {\n",
       "        text-align: right;\n",
       "    }\n",
       "</style>\n",
       "<table border=\"1\" class=\"dataframe\">\n",
       "  <thead>\n",
       "    <tr style=\"text-align: right;\">\n",
       "      <th></th>\n",
       "      <th>Model</th>\n",
       "      <th>Pearson's R</th>\n",
       "      <th>Cell Type</th>\n",
       "    </tr>\n",
       "  </thead>\n",
       "  <tbody>\n",
       "    <tr>\n",
       "      <th>0</th>\n",
       "      <td>base_CNN_model</td>\n",
       "      <td>0.703621</td>\n",
       "      <td>K562</td>\n",
       "    </tr>\n",
       "    <tr>\n",
       "      <th>1</th>\n",
       "      <td>ResNet</td>\n",
       "      <td>0.772497</td>\n",
       "      <td>K562</td>\n",
       "    </tr>\n",
       "    <tr>\n",
       "      <th>2</th>\n",
       "      <td>ResNet</td>\n",
       "      <td>0.746718</td>\n",
       "      <td>HepG2</td>\n",
       "    </tr>\n",
       "    <tr>\n",
       "      <th>3</th>\n",
       "      <td>base_CNN_model</td>\n",
       "      <td>0.646842</td>\n",
       "      <td>HepG2</td>\n",
       "    </tr>\n",
       "    <tr>\n",
       "      <th>4</th>\n",
       "      <td>NT</td>\n",
       "      <td>0.623682</td>\n",
       "      <td>K562</td>\n",
       "    </tr>\n",
       "    <tr>\n",
       "      <th>5</th>\n",
       "      <td>NT</td>\n",
       "      <td>0.545211</td>\n",
       "      <td>HepG2</td>\n",
       "    </tr>\n",
       "    <tr>\n",
       "      <th>6</th>\n",
       "      <td>gpn</td>\n",
       "      <td>0.712878</td>\n",
       "      <td>K562</td>\n",
       "    </tr>\n",
       "    <tr>\n",
       "      <th>7</th>\n",
       "      <td>gpn</td>\n",
       "      <td>0.661932</td>\n",
       "      <td>HepG2</td>\n",
       "    </tr>\n",
       "    <tr>\n",
       "      <th>8</th>\n",
       "      <td>hyena</td>\n",
       "      <td>0.661394</td>\n",
       "      <td>K562</td>\n",
       "    </tr>\n",
       "    <tr>\n",
       "      <th>9</th>\n",
       "      <td>hyena</td>\n",
       "      <td>0.562690</td>\n",
       "      <td>HepG2</td>\n",
       "    </tr>\n",
       "    <tr>\n",
       "      <th>10</th>\n",
       "      <td>sei</td>\n",
       "      <td>0.771527</td>\n",
       "      <td>K562</td>\n",
       "    </tr>\n",
       "    <tr>\n",
       "      <th>11</th>\n",
       "      <td>sei</td>\n",
       "      <td>0.750730</td>\n",
       "      <td>HepG2</td>\n",
       "    </tr>\n",
       "    <tr>\n",
       "      <th>12</th>\n",
       "      <td>dnabert2</td>\n",
       "      <td>0.593446</td>\n",
       "      <td>K562</td>\n",
       "    </tr>\n",
       "    <tr>\n",
       "      <th>13</th>\n",
       "      <td>dnabert2</td>\n",
       "      <td>0.519453</td>\n",
       "      <td>HepG2</td>\n",
       "    </tr>\n",
       "  </tbody>\n",
       "</table>\n",
       "</div>"
      ],
      "text/plain": [
       "             Model  Pearson's R Cell Type\n",
       "0   base_CNN_model     0.703621      K562\n",
       "1           ResNet     0.772497      K562\n",
       "2           ResNet     0.746718     HepG2\n",
       "3   base_CNN_model     0.646842     HepG2\n",
       "4               NT     0.623682      K562\n",
       "5               NT     0.545211     HepG2\n",
       "6              gpn     0.712878      K562\n",
       "7              gpn     0.661932     HepG2\n",
       "8            hyena     0.661394      K562\n",
       "9            hyena     0.562690     HepG2\n",
       "10             sei     0.771527      K562\n",
       "11             sei     0.750730     HepG2\n",
       "12        dnabert2     0.593446      K562\n",
       "13        dnabert2     0.519453     HepG2"
      ]
     },
     "execution_count": 6,
     "metadata": {},
     "output_type": "execute_result"
    }
   ],
   "source": [
    "result_df = pd.DataFrame({'Model':model_list,\"Pearson's R\":pr_list,'Cell Type':ct_list})\n",
    "result_df"
   ]
  },
  {
   "cell_type": "code",
   "execution_count": 7,
   "metadata": {},
   "outputs": [],
   "source": [
    "result_df.to_csv('./results/lenti.csv',index=False)"
   ]
  },
  {
   "cell_type": "code",
   "execution_count": null,
   "metadata": {},
   "outputs": [],
   "source": []
  }
 ],
 "metadata": {
  "kernelspec": {
   "display_name": "jax_tf",
   "language": "python",
   "name": "python3"
  },
  "language_info": {
   "codemirror_mode": {
    "name": "ipython",
    "version": 3
   },
   "file_extension": ".py",
   "mimetype": "text/x-python",
   "name": "python",
   "nbconvert_exporter": "python",
   "pygments_lexer": "ipython3",
   "version": "3.9.16"
  }
 },
 "nbformat": 4,
 "nbformat_minor": 2
}
