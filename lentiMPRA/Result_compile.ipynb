{
 "cells": [
  {
   "cell_type": "code",
   "execution_count": 1,
   "metadata": {},
   "outputs": [
    {
     "name": "stderr",
     "output_type": "stream",
     "text": [
      "2024-02-20 15:43:21.760729: I tensorflow/core/platform/cpu_feature_guard.cc:182] This TensorFlow binary is optimized to use available CPU instructions in performance-critical operations.\n",
      "To enable the following instructions: SSE4.1 SSE4.2 AVX AVX2 FMA, in other operations, rebuild TensorFlow with the appropriate compiler flags.\n"
     ]
    }
   ],
   "source": [
    "import tensorflow as tf\n",
    "from tensorflow import keras\n",
    "import h5py\n",
    "import scipy.stats\n",
    "import numpy as np\n",
    "import os\n",
    "import pandas as pd\n",
    "from sklearn import model_selection\n",
    "import glob\n",
    "os.environ['CUDA_VISIBLE_DEVICES'] = '2'"
   ]
  },
  {
   "cell_type": "code",
   "execution_count": 2,
   "metadata": {},
   "outputs": [],
   "source": [
    "result_df = pd.DataFrame(columns=['Model',\"Pearson's R\",'Cell Type'])\n",
    "celltype_list = ['K562','HepG2']\n",
    "\n",
    "model_list=[]\n",
    "pr_list = []\n",
    "ct_list = []"
   ]
  },
  {
   "cell_type": "code",
   "execution_count": 3,
   "metadata": {},
   "outputs": [
    {
     "name": "stderr",
     "output_type": "stream",
     "text": [
      "2024-02-05 23:15:01.743028: I tensorflow/core/common_runtime/gpu/gpu_device.cc:1635] Created device /job:localhost/replica:0/task:0/device:GPU:0 with 78973 MB memory:  -> device: 0, name: NVIDIA A100 80GB PCIe, pci bus id: 0000:85:00.0, compute capability: 8.0\n",
      "/home/ztang/.conda/envs/jax_tf/lib/python3.9/site-packages/keras/initializers/initializers.py:120: UserWarning: The initializer RandomNormal is unseeded and being called multiple times, which will return identical values each time (even if the initializer is unseeded). Please update your code to provide a seed to the initializer, or avoid using the same initalizer instance more than once.\n",
      "  warnings.warn(\n",
      "2024-02-05 23:15:03.040175: I tensorflow/compiler/xla/stream_executor/cuda/cuda_blas.cc:637] TensorFloat-32 will be used for the matrix multiplication. This will only be logged once.\n",
      "2024-02-05 23:15:03.136339: I tensorflow/compiler/xla/stream_executor/cuda/cuda_dnn.cc:424] Loaded cuDNN version 8800\n"
     ]
    },
    {
     "name": "stdout",
     "output_type": "stream",
     "text": [
      "708/708 [==============================] - 2s 876us/step\n",
      "708/708 [==============================] - 1s 1ms/step\n",
      "438/438 [==============================] - 1s 2ms/step\n",
      "438/438 [==============================] - 1s 969us/step\n"
     ]
    }
   ],
   "source": [
    "## One-hot input models\n",
    "for ct in celltype_list:\n",
    "\n",
    "    f = h5py.File('/home/ztang/multitask_RNA/data/lenti_MPRA/'+ct+'_onehot.h5', 'r')\n",
    "    x = f['onehot'][()]\n",
    "    y = f['target'][()]\n",
    "    x = np.swapaxes(x,1,2)\n",
    "    x_train, x_test, y_train, y_test = model_selection.train_test_split(x, y, test_size=0.1,random_state=42)\n",
    "\n",
    "    for model_f in glob.glob('../model/lenti_MPRA/lenti_MPRA_onehot/'+ct+'/*.h5'):\n",
    "        model = tf.keras.models.load_model(model_f)\n",
    "        y_pred = model.predict(x_test)\n",
    "        pr = scipy.stats.pearsonr(np.squeeze(y_pred),y_test)[0]\n",
    "        model_name = model_f.split('/')[-1][:-3]\n",
    "        model_list.append(model_name)\n",
    "        pr_list.append(pr)\n",
    "        ct_list.append(ct)\n",
    "\n",
    "#result_df = pd.DataFrame({'Model':model_list,\"Pearson's R\":pr_list,'Cell Type':ct_list})"
   ]
  },
  {
   "cell_type": "code",
   "execution_count": 4,
   "metadata": {},
   "outputs": [],
   "source": [
    "## NT saved results\n",
    "for ct in celltype_list:\n",
    "    temp_df = pd.read_csv('./results/'+ct+'_2B5_1000G_layersearch.csv')\n",
    "    best_perf = temp_df['Embedding CNN'].max()\n",
    "    model_list.append('NT')\n",
    "    pr_list.append(best_perf)\n",
    "    ct_list.append(ct)\n"
   ]
  },
  {
   "cell_type": "code",
   "execution_count": 5,
   "metadata": {},
   "outputs": [
    {
     "name": "stderr",
     "output_type": "stream",
     "text": [
      "/home/ztang/.conda/envs/jax_tf/lib/python3.9/site-packages/keras/initializers/initializers.py:120: UserWarning: The initializer RandomNormal is unseeded and being called multiple times, which will return identical values each time (even if the initializer is unseeded). Please update your code to provide a seed to the initializer, or avoid using the same initalizer instance more than once.\n",
      "  warnings.warn(\n"
     ]
    },
    {
     "name": "stdout",
     "output_type": "stream",
     "text": [
      "708/708 [==============================] - 2s 3ms/step\n",
      "438/438 [==============================] - 1s 2ms/step\n",
      "708/708 [==============================] - 1s 2ms/step\n",
      "438/438 [==============================] - 1s 2ms/step\n",
      "708/708 [==============================] - 1s 1ms/step\n",
      "438/438 [==============================] - 1s 1ms/step\n",
      "708/708 [==============================] - 1s 1ms/step\n",
      "438/438 [==============================] - 1s 2ms/step\n"
     ]
    }
   ],
   "source": [
    "## Embedding results\n",
    "for model_name in ['gpn','hyena','sei','dnabert2']:\n",
    "    for ct in celltype_list:\n",
    "        f = h5py.File('../data/lenti_MPRA_embed/'+model_name+'_'+ct+'.h5', 'r')\n",
    "        x = f['seq']\n",
    "        y = f['mean']\n",
    "        x_train, x_test, y_train, y_test = model_selection.train_test_split(range(len(x)), range(len(y)), \n",
    "                                                                            test_size=0.1,random_state=42)\n",
    "        x_test = x[np.sort(x_test)]\n",
    "        y_test = y[np.sort(y_test)]\n",
    "       \n",
    "        model = tf.keras.models.load_model('../model/lenti_MPRA/lenti_MPRA_embed/'+ct+'/'+model_name+'.h5')\n",
    "        y_pred = model.predict(x_test)\n",
    "        pr = scipy.stats.pearsonr(np.squeeze(y_pred),y_test)[0]\n",
    "        model_list.append(model_name)\n",
    "        pr_list.append(pr)\n",
    "        ct_list.append(ct)"
   ]
  },
  {
   "cell_type": "code",
   "execution_count": 7,
   "metadata": {},
   "outputs": [],
   "source": [
    "result_df.to_csv('./results/lenti.csv',index=False)"
   ]
  },
  {
   "cell_type": "code",
   "execution_count": null,
   "metadata": {},
   "outputs": [],
   "source": []
  }
 ],
 "metadata": {
  "kernelspec": {
   "display_name": "jax_tf",
   "language": "python",
   "name": "python3"
  },
  "language_info": {
   "codemirror_mode": {
    "name": "ipython",
    "version": 3
   },
   "file_extension": ".py",
   "mimetype": "text/x-python",
   "name": "python",
   "nbconvert_exporter": "python",
   "pygments_lexer": "ipython3",
   "version": "3.9.16"
  }
 },
 "nbformat": 4,
 "nbformat_minor": 2
}
