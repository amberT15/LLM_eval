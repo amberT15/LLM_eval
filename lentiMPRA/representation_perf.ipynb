{
 "cells": [
  {
   "cell_type": "code",
   "execution_count": 1,
   "metadata": {},
   "outputs": [
    {
     "name": "stderr",
     "output_type": "stream",
     "text": [
      "2024-02-21 21:48:37.246315: I tensorflow/core/platform/cpu_feature_guard.cc:182] This TensorFlow binary is optimized to use available CPU instructions in performance-critical operations.\n",
      "To enable the following instructions: SSE4.1 SSE4.2 AVX AVX2 FMA, in other operations, rebuild TensorFlow with the appropriate compiler flags.\n"
     ]
    }
   ],
   "source": [
    "import importlib\n",
    "import tensorflow as tf\n",
    "import pandas as pd\n",
    "import mpra_model\n",
    "import h5py\n",
    "importlib.reload(mpra_model)\n",
    "import numpy as np\n",
    "from tqdm import tqdm\n",
    "import sklearn\n",
    "from sklearn import model_selection\n",
    "import scipy.stats\n",
    "from sklearn.linear_model import Ridge\n",
    "import os\n",
    "os.environ['CUDA_VISIBLE_DEVICES']='1'"
   ]
  },
  {
   "cell_type": "markdown",
   "metadata": {},
   "source": [
    "## Ridge/MLP model Train"
   ]
  },
  {
   "cell_type": "code",
   "execution_count": 2,
   "metadata": {},
   "outputs": [
    {
     "name": "stdout",
     "output_type": "stream",
     "text": [
      "Start\n",
      "Ridge regression for CLS and Mean Embed\n",
      "MLP for mean embedding training...\n"
     ]
    },
    {
     "name": "stderr",
     "output_type": "stream",
     "text": [
      "2024-02-20 21:05:55.552442: I tensorflow/core/common_runtime/gpu/gpu_device.cc:1635] Created device /job:localhost/replica:0/task:0/device:GPU:0 with 78973 MB memory:  -> device: 0, name: NVIDIA A100 80GB PCIe, pci bus id: 0000:47:00.0, compute capability: 8.0\n",
      "/home/ztang/.conda/envs/jax_tf/lib/python3.9/site-packages/keras/initializers/initializers.py:120: UserWarning: The initializer RandomNormal is unseeded and being called multiple times, which will return identical values each time (even if the initializer is unseeded). Please update your code to provide a seed to the initializer, or avoid using the same initalizer instance more than once.\n",
      "  warnings.warn(\n",
      "2024-02-20 21:06:27.118235: I tensorflow/compiler/xla/stream_executor/cuda/cuda_blas.cc:637] TensorFloat-32 will be used for the matrix multiplication. This will only be logged once.\n",
      "2024-02-20 21:06:27.120403: I tensorflow/compiler/xla/service/service.cc:169] XLA service 0x7f06a7030b00 initialized for platform CUDA (this does not guarantee that XLA will be used). Devices:\n",
      "2024-02-20 21:06:27.120420: I tensorflow/compiler/xla/service/service.cc:177]   StreamExecutor device (0): NVIDIA A100 80GB PCIe, Compute Capability 8.0\n",
      "2024-02-20 21:06:27.123674: I tensorflow/compiler/mlir/tensorflow/utils/dump_mlir_util.cc:269] disabling MLIR crash reproducer, set env var `MLIR_CRASH_REPRODUCER_DIRECTORY` to enable.\n",
      "2024-02-20 21:06:27.228126: I tensorflow/compiler/xla/stream_executor/cuda/cuda_dnn.cc:424] Loaded cuDNN version 8800\n",
      "2024-02-20 21:06:27.323867: I ./tensorflow/compiler/jit/device_compiler.h:180] Compiled cluster using XLA!  This line is logged at most once for the lifetime of the process.\n"
     ]
    },
    {
     "name": "stdout",
     "output_type": "stream",
     "text": [
      "438/438 [==============================] - 0s 586us/step\n",
      "MLP for cls training...\n",
      "438/438 [==============================] - 0s 607us/step\n",
      "Start\n",
      "Ridge regression for CLS and Mean Embed\n",
      "MLP for mean embedding training...\n"
     ]
    },
    {
     "name": "stderr",
     "output_type": "stream",
     "text": [
      "/home/ztang/.conda/envs/jax_tf/lib/python3.9/site-packages/keras/initializers/initializers.py:120: UserWarning: The initializer RandomNormal is unseeded and being called multiple times, which will return identical values each time (even if the initializer is unseeded). Please update your code to provide a seed to the initializer, or avoid using the same initalizer instance more than once.\n",
      "  warnings.warn(\n"
     ]
    },
    {
     "name": "stdout",
     "output_type": "stream",
     "text": [
      "708/708 [==============================] - 0s 597us/step\n",
      "MLP for cls training...\n",
      "708/708 [==============================] - 0s 579us/step\n",
      "Start\n",
      "Ridge regression for CLS and Mean Embed\n",
      "MLP for mean embedding training...\n"
     ]
    },
    {
     "name": "stderr",
     "output_type": "stream",
     "text": [
      "/home/ztang/.conda/envs/jax_tf/lib/python3.9/site-packages/keras/initializers/initializers.py:120: UserWarning: The initializer RandomNormal is unseeded and being called multiple times, which will return identical values each time (even if the initializer is unseeded). Please update your code to provide a seed to the initializer, or avoid using the same initalizer instance more than once.\n",
      "  warnings.warn(\n"
     ]
    },
    {
     "name": "stdout",
     "output_type": "stream",
     "text": [
      "438/438 [==============================] - 0s 610us/step\n",
      "Start\n",
      "Ridge regression for CLS and Mean Embed\n",
      "MLP for mean embedding training...\n"
     ]
    },
    {
     "name": "stderr",
     "output_type": "stream",
     "text": [
      "/home/ztang/.conda/envs/jax_tf/lib/python3.9/site-packages/keras/initializers/initializers.py:120: UserWarning: The initializer RandomNormal is unseeded and being called multiple times, which will return identical values each time (even if the initializer is unseeded). Please update your code to provide a seed to the initializer, or avoid using the same initalizer instance more than once.\n",
      "  warnings.warn(\n"
     ]
    },
    {
     "name": "stdout",
     "output_type": "stream",
     "text": [
      "708/708 [==============================] - 0s 599us/step\n",
      "Start\n",
      "Ridge regression for CLS and Mean Embed\n"
     ]
    },
    {
     "name": "stderr",
     "output_type": "stream",
     "text": [
      "/home/ztang/.conda/envs/jax_tf/lib/python3.9/site-packages/sklearn/linear_model/_ridge.py:216: LinAlgWarning: Ill-conditioned matrix (rcond=1.52215e-08): result may not be accurate.\n",
      "  return linalg.solve(A, Xy, assume_a=\"pos\", overwrite_a=True).T\n"
     ]
    },
    {
     "name": "stdout",
     "output_type": "stream",
     "text": [
      "MLP for mean embedding training...\n"
     ]
    },
    {
     "name": "stderr",
     "output_type": "stream",
     "text": [
      "/home/ztang/.conda/envs/jax_tf/lib/python3.9/site-packages/keras/initializers/initializers.py:120: UserWarning: The initializer RandomNormal is unseeded and being called multiple times, which will return identical values each time (even if the initializer is unseeded). Please update your code to provide a seed to the initializer, or avoid using the same initalizer instance more than once.\n",
      "  warnings.warn(\n"
     ]
    },
    {
     "name": "stdout",
     "output_type": "stream",
     "text": [
      "438/438 [==============================] - 0s 632us/step\n",
      "MLP for cls training...\n",
      "438/438 [==============================] - 0s 614us/step\n",
      "Start\n",
      "Ridge regression for CLS and Mean Embed\n"
     ]
    },
    {
     "name": "stderr",
     "output_type": "stream",
     "text": [
      "/home/ztang/.conda/envs/jax_tf/lib/python3.9/site-packages/sklearn/linear_model/_ridge.py:216: LinAlgWarning: Ill-conditioned matrix (rcond=5.19195e-08): result may not be accurate.\n",
      "  return linalg.solve(A, Xy, assume_a=\"pos\", overwrite_a=True).T\n",
      "/home/ztang/.conda/envs/jax_tf/lib/python3.9/site-packages/sklearn/linear_model/_ridge.py:216: LinAlgWarning: Ill-conditioned matrix (rcond=8.71962e-09): result may not be accurate.\n",
      "  return linalg.solve(A, Xy, assume_a=\"pos\", overwrite_a=True).T\n"
     ]
    },
    {
     "name": "stdout",
     "output_type": "stream",
     "text": [
      "MLP for mean embedding training...\n"
     ]
    },
    {
     "name": "stderr",
     "output_type": "stream",
     "text": [
      "/home/ztang/.conda/envs/jax_tf/lib/python3.9/site-packages/keras/initializers/initializers.py:120: UserWarning: The initializer RandomNormal is unseeded and being called multiple times, which will return identical values each time (even if the initializer is unseeded). Please update your code to provide a seed to the initializer, or avoid using the same initalizer instance more than once.\n",
      "  warnings.warn(\n"
     ]
    },
    {
     "name": "stdout",
     "output_type": "stream",
     "text": [
      "708/708 [==============================] - 0s 612us/step\n",
      "MLP for cls training...\n",
      "708/708 [==============================] - 0s 618us/step\n"
     ]
    }
   ],
   "source": [
    "ct_list = ['HepG2','K562']\n",
    "model_list = []\n",
    "LLM_list = []\n",
    "perf_list = []\n",
    "celltype_list = []\n",
    "for model_name in ['hyena','gpn','dnabert2']:\n",
    "    for ct in ct_list:\n",
    "        print('Start')\n",
    "        f = h5py.File('../data/lenti_MPRA_embed/'+model_name+'_'+ct+'.h5', 'r')\n",
    "        x = f['seq']\n",
    "        target = f['mean']\n",
    "        x_train, x_test, y_train, y_test = model_selection.train_test_split(range(len(x)), range(len(target)), \n",
    "                                                                            test_size=0.1,random_state=42)\n",
    "        if model_name == 'gpn':\n",
    "            mean_embed = np.mean(x,axis=1)\n",
    "            cls_embed = None\n",
    "        else:\n",
    "            mean_embed = np.mean(x[:,1:,:],axis=1)\n",
    "            cls_embed = np.squeeze(x[:,:1,:])\n",
    "\n",
    "        ## Ridge regression\n",
    "        print('Ridge regression for CLS and Mean Embed')\n",
    "        embed_model = Ridge(0.001).fit(mean_embed[np.sort(x_train)], target[np.sort(y_train)])\n",
    "\n",
    "        LLM_list.append(model_name)\n",
    "        model_list.append('Mean-embed-Ridge')\n",
    "        perf_list.append(scipy.stats.pearsonr(embed_model.predict(mean_embed[np.sort(x_test)]),target[np.sort(y_test)])[0])\n",
    "        celltype_list.append(ct)\n",
    "\n",
    "        if cls_embed is not None:\n",
    "            embed_model = Ridge(0.001).fit(cls_embed[np.sort(x_train)], target[np.sort(y_train)])\n",
    "\n",
    "            LLM_list.append(model_name)\n",
    "            model_list.append('CLS-Ridge')\n",
    "            perf_list.append(scipy.stats.pearsonr(embed_model.predict(cls_embed[np.sort(x_test)]),target[np.sort(y_test)])[0])\n",
    "            celltype_list.append(ct)\n",
    "\n",
    "        ## MLP model\n",
    "        print('MLP for mean embedding training...')\n",
    "        model = mpra_model.rep_mlp(mean_embed.shape[1])\n",
    "        optimizer = tf.keras.optimizers.Adam(learning_rate=0.0001)\n",
    "        earlyStopping_callback = tf.keras.callbacks.EarlyStopping(patience=10, restore_best_weights=True)\n",
    "        reduce_lr = tf.keras.callbacks.ReduceLROnPlateau(monitor='val_loss', factor=0.2,patience=5, min_lr=1e-8)\n",
    "        model.compile(optimizer=optimizer,\n",
    "                        loss='mean_squared_error',\n",
    "                        metrics=['mse'])\n",
    "        model.fit(\n",
    "                mean_embed[np.sort(x_train)],target[np.sort(y_train)],\n",
    "                epochs=100,\n",
    "                batch_size=512,\n",
    "                shuffle=True,\n",
    "                validation_split=0.1,\n",
    "                callbacks=[earlyStopping_callback,reduce_lr],\n",
    "                verbose=0,)\n",
    "        y_pred = model.predict(mean_embed[np.sort(x_test)])\n",
    "\n",
    "        perf_list.append(scipy.stats.pearsonr(np.squeeze(y_pred),target[np.sort(y_test)])[0])\n",
    "        LLM_list.append(model_name)\n",
    "        celltype_list.append(ct)\n",
    "        model_list.append('Mean-embed-MLP')\n",
    "        if cls_embed is not None:\n",
    "            print('MLP for cls training...')\n",
    "            model = mpra_model.rep_mlp(cls_embed.shape[1])\n",
    "            optimizer = tf.keras.optimizers.Adam(learning_rate=0.0001)\n",
    "            earlyStopping_callback = tf.keras.callbacks.EarlyStopping(patience=10, restore_best_weights=True)\n",
    "            reduce_lr = tf.keras.callbacks.ReduceLROnPlateau(monitor='val_loss', factor=0.2,patience=5, min_lr=1e-8)\n",
    "            model.compile(optimizer=optimizer,\n",
    "                            loss='mean_squared_error',\n",
    "                            metrics=['mse'])\n",
    "            model.fit(\n",
    "                    cls_embed[np.sort(x_train)],target[np.sort(y_train)],\n",
    "                    epochs=100,\n",
    "                    batch_size=512,\n",
    "                    shuffle=True,\n",
    "                    validation_split=0.1,\n",
    "                    callbacks=[earlyStopping_callback,reduce_lr],\n",
    "                    verbose=0,)\n",
    "            y_pred = model.predict(cls_embed[np.sort(x_test)])\n",
    "\n",
    "            perf_list.append(scipy.stats.pearsonr(np.squeeze(y_pred),target[np.sort(y_test)])[0])\n",
    "            LLM_list.append(model_name)\n",
    "            celltype_list.append(ct)\n",
    "            model_list.append('CLS-MLP')\n",
    "\n",
    "        del(model)\n",
    "        tf.keras.backend.clear_session()\n",
    "        "
   ]
  },
  {
   "cell_type": "code",
   "execution_count": 3,
   "metadata": {},
   "outputs": [],
   "source": [
    "perf_df = pd.DataFrame({'LLM':LLM_list,'Model':model_list,'Performance':perf_list,'Cell Type':celltype_list})"
   ]
  },
  {
   "cell_type": "code",
   "execution_count": 5,
   "metadata": {},
   "outputs": [],
   "source": [
    "perf_df.to_csv('./results/LLM_baseline.csv',index=False)"
   ]
  },
  {
   "cell_type": "markdown",
   "metadata": {},
   "source": [
    "## CNN Model Train"
   ]
  },
  {
   "cell_type": "code",
   "execution_count": null,
   "metadata": {},
   "outputs": [],
   "source": [
    "data_file = '../data/lenti_MPRA_embed/sei_K562.h5'\n",
    "model_file = '../model/lenti_MPRA/lenti_MPRA_embed/K562/sei.h5'"
   ]
  },
  {
   "cell_type": "code",
   "execution_count": 10,
   "metadata": {},
   "outputs": [
    {
     "name": "stdout",
     "output_type": "stream",
     "text": [
      "708/708 [==============================] - 1s 1ms/step\n",
      "PearsonRResult(statistic=0.7715274284093354, pvalue=0.0)\n"
     ]
    }
   ],
   "source": [
    "cnn_config = {\n",
    "    'activation':'exponential',\n",
    "    'reduce_dim': 128,\n",
    "    'conv1_filter':196,\n",
    "    'conv1_kernel':7,\n",
    "    'dropout1':0.2,\n",
    "    'res_filter':5,\n",
    "    'res_layers':3,\n",
    "    'res_pool':5,\n",
    "    'res_dropout':0.2,\n",
    "    'conv2_filter':256,\n",
    "    'conv2_kernel':7,\n",
    "    'pool2_size':4,\n",
    "    'dropout2':0.2,\n",
    "    'dense':512,\n",
    "    'dense2':256,\n",
    "    'l_rate':0.0001\n",
    "}\n",
    "\n",
    "file = h5py.File(data_file,'r')\n",
    "seq = file['seq'][()]\n",
    "target = file['mean'][()]\n",
    "x_train,x_test,y_train,y_test=model_selection.train_test_split(seq,target,random_state=42,test_size=0.1)\n",
    "\n",
    "model = mpra_model.rep_cnn(seq[0].shape,cnn_config)\n",
    "optimizer = tf.keras.optimizers.Adam(learning_rate=cnn_config['l_rate'])\n",
    "loss = tf.keras.losses.MeanSquaredError()\n",
    "model.compile(optimizer=optimizer,loss=loss,metrics=['mse'])\n",
    "earlyStopping_callback = tf.keras.callbacks.EarlyStopping(patience=10, restore_best_weights=True)\n",
    "\n",
    "reduce_lr = tf.keras.callbacks.ReduceLROnPlateau(\n",
    "        monitor='val_loss', factor=0.2,\n",
    "        patience=5, min_lr=1e-8)\n",
    "checkpoint = tf.keras.callbacks.ModelCheckpoint(\n",
    "                                    model_file,\n",
    "                                    monitor='val_loss',\n",
    "                                    save_best_only=True,\n",
    "                                    mode = 'min',\n",
    "                                    save_freq='epoch',)\n",
    "model.fit(\n",
    "        x_train,y_train,\n",
    "        epochs=100,\n",
    "        batch_size=512,\n",
    "        shuffle=True,\n",
    "        verbose=0,\n",
    "        validation_split=0.1,\n",
    "        callbacks=[earlyStopping_callback,reduce_lr,checkpoint])\n",
    "\n",
    "y_pred = model.predict(x_test)\n",
    "print(scipy.stats.pearsonr(np.squeeze(y_pred),np.squeeze(y_test)))"
   ]
  },
  {
   "cell_type": "code",
   "execution_count": null,
   "metadata": {},
   "outputs": [],
   "source": []
  },
  {
   "cell_type": "code",
   "execution_count": 3,
   "metadata": {},
   "outputs": [
    {
     "name": "stderr",
     "output_type": "stream",
     "text": [
      "2024-02-20 16:20:49.548413: I tensorflow/core/common_runtime/gpu/gpu_device.cc:1635] Created device /job:localhost/replica:0/task:0/device:GPU:0 with 78973 MB memory:  -> device: 0, name: NVIDIA A100 80GB PCIe, pci bus id: 0000:47:00.0, compute capability: 8.0\n",
      "/home/ztang/.conda/envs/jax_tf/lib/python3.9/site-packages/keras/initializers/initializers.py:120: UserWarning: The initializer RandomNormal is unseeded and being called multiple times, which will return identical values each time (even if the initializer is unseeded). Please update your code to provide a seed to the initializer, or avoid using the same initalizer instance more than once.\n",
      "  warnings.warn(\n",
      "2024-02-20 16:20:52.849575: I tensorflow/compiler/xla/stream_executor/cuda/cuda_blas.cc:637] TensorFloat-32 will be used for the matrix multiplication. This will only be logged once.\n",
      "2024-02-20 16:20:52.974980: I tensorflow/compiler/xla/stream_executor/cuda/cuda_dnn.cc:424] Loaded cuDNN version 8800\n"
     ]
    },
    {
     "name": "stdout",
     "output_type": "stream",
     "text": [
      "438/438 [==============================] - 2s 2ms/step\n",
      "0.5626900592550687\n",
      "708/708 [==============================] - 1s 2ms/step\n",
      "0.6613938648554784\n"
     ]
    }
   ],
   "source": [
    "## Embedding results\n",
    "for model_name in ['hyena']:\n",
    "    for ct in ['HepG2','K562']:\n",
    "        f = h5py.File('../data/lenti_MPRA_embed/'+model_name+'_'+ct+'.h5', 'r')\n",
    "        x = f['seq']\n",
    "        y = f['mean']\n",
    "        x_train, x_test, y_train, y_test = model_selection.train_test_split(range(len(x)), range(len(y)), \n",
    "                                                                            test_size=0.1,random_state=42)\n",
    "        x_test = x[np.sort(x_test)]\n",
    "        y_test = y[np.sort(y_test)]\n",
    "       \n",
    "        model = tf.keras.models.load_model('../model/lenti_MPRA/lenti_MPRA_embed/'+ct+'/'+model_name+'.h5')\n",
    "        y_pred = model.predict(x_test)\n",
    "        pr = scipy.stats.pearsonr(np.squeeze(y_pred),y_test)[0]\n",
    "        print(pr)"
   ]
  },
  {
   "cell_type": "code",
   "execution_count": null,
   "metadata": {},
   "outputs": [],
   "source": []
  }
 ],
 "metadata": {
  "kernelspec": {
   "display_name": "jax_tf",
   "language": "python",
   "name": "python3"
  },
  "language_info": {
   "codemirror_mode": {
    "name": "ipython",
    "version": 3
   },
   "file_extension": ".py",
   "mimetype": "text/x-python",
   "name": "python",
   "nbconvert_exporter": "python",
   "pygments_lexer": "ipython3",
   "version": "3.9.16"
  }
 },
 "nbformat": 4,
 "nbformat_minor": 2
}
