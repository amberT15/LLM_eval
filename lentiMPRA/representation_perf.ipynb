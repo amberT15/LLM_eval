{
 "cells": [
  {
   "cell_type": "code",
   "execution_count": 4,
   "metadata": {},
   "outputs": [],
   "source": [
    "import importlib\n",
    "import tensorflow as tf\n",
    "import pandas as pd\n",
    "import mpra_model\n",
    "import h5py\n",
    "importlib.reload(mpra_model)\n",
    "import numpy as np\n",
    "from tqdm import tqdm\n",
    "import sklearn\n",
    "from sklearn import model_selection\n",
    "import scipy.stats\n",
    "import os\n",
    "os.environ['CUDA_VISIBLE_DEVICES']='3'"
   ]
  },
  {
   "cell_type": "code",
   "execution_count": 5,
   "metadata": {},
   "outputs": [],
   "source": [
    "data_file = '../data/lenti_MPRA_embed/sei_K562.h5'\n",
    "model_file = '../model/lenti_MPRA/lenti_MPRA_embed/K562/sei.h5'"
   ]
  },
  {
   "cell_type": "code",
   "execution_count": 10,
   "metadata": {},
   "outputs": [
    {
     "name": "stdout",
     "output_type": "stream",
     "text": [
      "708/708 [==============================] - 1s 1ms/step\n",
      "PearsonRResult(statistic=0.7715274284093354, pvalue=0.0)\n"
     ]
    }
   ],
   "source": [
    "cnn_config = {\n",
    "    'activation':'exponential',\n",
    "    'reduce_dim': 128,\n",
    "    'conv1_filter':196,\n",
    "    'conv1_kernel':7,\n",
    "    'dropout1':0.2,\n",
    "    'res_filter':5,\n",
    "    'res_layers':3,\n",
    "    'res_pool':5,\n",
    "    'res_dropout':0.2,\n",
    "    'conv2_filter':256,\n",
    "    'conv2_kernel':7,\n",
    "    'pool2_size':4,\n",
    "    'dropout2':0.2,\n",
    "    'dense':512,\n",
    "    'dense2':256,\n",
    "    'l_rate':0.0001\n",
    "}\n",
    "\n",
    "file = h5py.File(data_file,'r')\n",
    "seq = file['seq'][()]\n",
    "target = file['mean'][()]\n",
    "x_train,x_test,y_train,y_test=model_selection.train_test_split(seq,target,random_state=42,test_size=0.1)\n",
    "\n",
    "model = mpra_model.rep_cnn(seq[0].shape,cnn_config)\n",
    "optimizer = tf.keras.optimizers.Adam(learning_rate=cnn_config['l_rate'])\n",
    "loss = tf.keras.losses.MeanSquaredError()\n",
    "model.compile(optimizer=optimizer,loss=loss,metrics=['mse'])\n",
    "earlyStopping_callback = tf.keras.callbacks.EarlyStopping(patience=10, restore_best_weights=True)\n",
    "\n",
    "reduce_lr = tf.keras.callbacks.ReduceLROnPlateau(\n",
    "        monitor='val_loss', factor=0.2,\n",
    "        patience=5, min_lr=1e-8)\n",
    "checkpoint = tf.keras.callbacks.ModelCheckpoint(\n",
    "                                    model_file,\n",
    "                                    monitor='val_loss',\n",
    "                                    save_best_only=True,\n",
    "                                    mode = 'min',\n",
    "                                    save_freq='epoch',)\n",
    "model.fit(\n",
    "        x_train,y_train,\n",
    "        epochs=100,\n",
    "        batch_size=512,\n",
    "        shuffle=True,\n",
    "        verbose=0,\n",
    "        validation_split=0.1,\n",
    "        callbacks=[earlyStopping_callback,reduce_lr,checkpoint])\n",
    "\n",
    "y_pred = model.predict(x_test)\n",
    "print(scipy.stats.pearsonr(np.squeeze(y_pred),np.squeeze(y_test)))"
   ]
  },
  {
   "cell_type": "markdown",
   "metadata": {},
   "source": [
    "## Testing"
   ]
  },
  {
   "cell_type": "code",
   "execution_count": 4,
   "metadata": {},
   "outputs": [],
   "source": [
    "data_file = '../data/lenti_MPRA_embed/sei_HepG2.h5'\n",
    "model = tf.keras.models.load_model('../model/lenti_MPRA/lenti_MPRA_embed/HepG2/sei.h5')"
   ]
  },
  {
   "cell_type": "code",
   "execution_count": 5,
   "metadata": {},
   "outputs": [],
   "source": [
    "file = h5py.File(data_file,'r')\n",
    "seq = file['seq'][()]\n",
    "target = file['mean'][()]\n",
    "x_train,x_test,y_train,y_test=model_selection.train_test_split(seq,target,random_state=42,test_size=0.1)\n",
    "x_train,x_valid,y_train,y_valid = model_selection.train_test_split(x_train,y_train,random_state=42,test_size=0.1)\n",
    "with tf.device(\"CPU\"):\n",
    "        trainset = tf.data.Dataset.from_tensor_slices((x_train,y_train)).shuffle(256*4).batch(256)\n",
    "        validset = tf.data.Dataset.from_tensor_slices((x_valid,y_valid)).shuffle(256*4).batch(256)\n",
    "        testset = tf.data.Dataset.from_tensor_slices((x_test,y_test)).shuffle(256*4).batch(256)"
   ]
  },
  {
   "cell_type": "code",
   "execution_count": 6,
   "metadata": {},
   "outputs": [
    {
     "name": "stderr",
     "output_type": "stream",
     "text": [
      "2024-02-05 17:41:43.377782: I tensorflow/core/common_runtime/executor.cc:1197] [/device:CPU:0] (DEBUG INFO) Executor start aborting (this does not indicate an error and you can ignore this message): INVALID_ARGUMENT: You must feed a value for placeholder tensor 'Placeholder/_0' with dtype float and shape [13988,960,16]\n",
      "\t [[{{node Placeholder/_0}}]]\n",
      "2024-02-05 17:41:43.378090: I tensorflow/core/common_runtime/executor.cc:1197] [/device:CPU:0] (DEBUG INFO) Executor start aborting (this does not indicate an error and you can ignore this message): INVALID_ARGUMENT: You must feed a value for placeholder tensor 'Placeholder/_1' with dtype double and shape [13988]\n",
      "\t [[{{node Placeholder/_1}}]]\n"
     ]
    },
    {
     "name": "stdout",
     "output_type": "stream",
     "text": [
      "PearsonRResult(statistic=0.7516205692678941, pvalue=0.0)\n"
     ]
    }
   ],
   "source": [
    "pred_y = []\n",
    "y_test = []\n",
    "for i,(x,y) in enumerate(testset):\n",
    "    pred_y.extend(model.predict(x,verbose=0))\n",
    "    y_test.extend(y)\n",
    "\n",
    "print(scipy.stats.pearsonr(np.squeeze(pred_y),np.squeeze(y_test)))"
   ]
  },
  {
   "cell_type": "code",
   "execution_count": null,
   "metadata": {},
   "outputs": [],
   "source": []
  },
  {
   "cell_type": "code",
   "execution_count": null,
   "metadata": {},
   "outputs": [],
   "source": []
  }
 ],
 "metadata": {
  "kernelspec": {
   "display_name": "jax_tf",
   "language": "python",
   "name": "python3"
  },
  "language_info": {
   "codemirror_mode": {
    "name": "ipython",
    "version": 3
   },
   "file_extension": ".py",
   "mimetype": "text/x-python",
   "name": "python",
   "nbconvert_exporter": "python",
   "pygments_lexer": "ipython3",
   "version": "3.9.16"
  }
 },
 "nbformat": 4,
 "nbformat_minor": 2
}
