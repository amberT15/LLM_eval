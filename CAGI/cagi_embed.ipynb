{
 "cells": [
  {
   "attachments": {},
   "cell_type": "markdown",
   "id": "6b98cb6b",
   "metadata": {},
   "source": [
    "## One hot models\n",
    "include one-hot CNN and one-hot Residual models"
   ]
  },
  {
   "cell_type": "code",
   "execution_count": 4,
   "id": "3db3994e",
   "metadata": {},
   "outputs": [],
   "source": [
    "import tensorflow as tf\n",
    "import h5py \n",
    "import scipy.stats\n",
    "import numpy as np\n",
    "import os\n",
    "import pandas as pd\n",
    "import glob\n",
    "os.environ['CUDA_VISIBLE_DEVICES'] = '0'\n",
    "celltype_list = ['K562','HepG2']\n",
    "model_list = ['ResNet','archiv']\n",
    "#model_list = ['rep_cnn','ResNet','MPRAnn']"
   ]
  },
  {
   "cell_type": "code",
   "execution_count": 5,
   "id": "39c7f126",
   "metadata": {},
   "outputs": [
    {
     "data": {
      "text/plain": [
       "'../model/lenti_MPRA/ResNet_HepG2.h5'"
      ]
     },
     "execution_count": 5,
     "metadata": {},
     "output_type": "execute_result"
    }
   ],
   "source": [
    "model_dir"
   ]
  },
  {
   "cell_type": "code",
   "execution_count": 6,
   "id": "5066cd7c",
   "metadata": {},
   "outputs": [
    {
     "name": "stdout",
     "output_type": "stream",
     "text": [
      "ResNet_K562.h5\n"
     ]
    },
    {
     "name": "stderr",
     "output_type": "stream",
     "text": [
      "/home/ztang/.conda/envs/jax_tf/lib/python3.9/site-packages/keras/initializers/initializers.py:120: UserWarning: The initializer GlorotUniform is unseeded and being called multiple times, which will return identical values each time (even if the initializer is unseeded). Please update your code to provide a seed to the initializer, or avoid using the same initalizer instance more than once.\n",
      "  warnings.warn(\n"
     ]
    },
    {
     "name": "stdout",
     "output_type": "stream",
     "text": [
      "{'PKLR': 0.6009966832410513}\n",
      "0.6009966832410513\n",
      "archiv_K562.h5\n"
     ]
    },
    {
     "name": "stderr",
     "output_type": "stream",
     "text": [
      "/home/ztang/.conda/envs/jax_tf/lib/python3.9/site-packages/keras/initializers/initializers.py:120: UserWarning: The initializer RandomNormal is unseeded and being called multiple times, which will return identical values each time (even if the initializer is unseeded). Please update your code to provide a seed to the initializer, or avoid using the same initalizer instance more than once.\n",
      "  warnings.warn(\n"
     ]
    },
    {
     "name": "stdout",
     "output_type": "stream",
     "text": [
      "{'PKLR': 0.6121411310204448}\n",
      "0.6121411310204448\n",
      "ResNet_HepG2.h5\n"
     ]
    },
    {
     "name": "stderr",
     "output_type": "stream",
     "text": [
      "/home/ztang/.conda/envs/jax_tf/lib/python3.9/site-packages/keras/initializers/initializers.py:120: UserWarning: The initializer GlorotUniform is unseeded and being called multiple times, which will return identical values each time (even if the initializer is unseeded). Please update your code to provide a seed to the initializer, or avoid using the same initalizer instance more than once.\n",
      "  warnings.warn(\n"
     ]
    },
    {
     "name": "stdout",
     "output_type": "stream",
     "text": [
      "{'LDLR': 0.44802903058086224, 'SORT1': 0.49767967879343145, 'F9': 0.5081893348033798}\n",
      "0.4846326813925579\n",
      "archiv_HepG2.h5\n"
     ]
    },
    {
     "name": "stderr",
     "output_type": "stream",
     "text": [
      "/home/ztang/.conda/envs/jax_tf/lib/python3.9/site-packages/keras/initializers/initializers.py:120: UserWarning: The initializer RandomNormal is unseeded and being called multiple times, which will return identical values each time (even if the initializer is unseeded). Please update your code to provide a seed to the initializer, or avoid using the same initalizer instance more than once.\n",
      "  warnings.warn(\n"
     ]
    },
    {
     "name": "stdout",
     "output_type": "stream",
     "text": [
      "{'LDLR': 0.6111832917528024, 'SORT1': 0.43722388204382634, 'F9': 0.5951978150932921}\n",
      "0.5478683296299737\n"
     ]
    }
   ],
   "source": [
    "tf.get_logger().setLevel('ERROR')\n",
    "for celltype in celltype_list:\n",
    "    exp_df = pd.read_csv('../data/CAGI/'+celltype+'/metadata.csv')\n",
    "    target = exp_df['6'].values.tolist()\n",
    "    file = h5py.File(\"../data/CAGI/\"+celltype+\"/onehot.h5\", \"r\")\n",
    "    alt = file['alt']\n",
    "    ref = file['ref']\n",
    "    for model in model_list:\n",
    "        model_dir = glob.glob('../model/lenti_MPRA/%s*%s*'%(model,celltype))[0]\n",
    "        print(model_dir.split('/')[-1])\n",
    "        model = tf.keras.models.load_model(model_dir)\n",
    "        alt_pred = model.predict(alt,verbose=0)\n",
    "        ref_pred = model.predict(ref,verbose = 0)\n",
    "        pred = alt_pred - ref_pred\n",
    "        perf = {}\n",
    "        for exp in exp_df['8'].unique():\n",
    "            sub_df = exp_df[exp_df['8'] == exp]\n",
    "            exp_target = np.array(target)[sub_df.index.to_list()]\n",
    "            exp_pred = np.squeeze(pred)[sub_df.index.to_list()]\n",
    "            perf[exp] = scipy.stats.pearsonr(exp_pred,exp_target)[0]\n",
    "        print(perf)\n",
    "        print(np.mean(list(perf.values())))\n",
    "    "
   ]
  },
  {
   "attachments": {},
   "cell_type": "markdown",
   "id": "45294847",
   "metadata": {},
   "source": [
    "## Embedding models\n",
    "GPN embedding trained models"
   ]
  },
  {
   "cell_type": "code",
   "execution_count": 1,
   "id": "c4025429",
   "metadata": {},
   "outputs": [
    {
     "name": "stderr",
     "output_type": "stream",
     "text": [
      "2024-06-04 13:25:44.764333: I tensorflow/core/platform/cpu_feature_guard.cc:182] This TensorFlow binary is optimized to use available CPU instructions in performance-critical operations.\n",
      "To enable the following instructions: SSE4.1 SSE4.2 AVX AVX2 FMA, in other operations, rebuild TensorFlow with the appropriate compiler flags.\n"
     ]
    }
   ],
   "source": [
    "import tensorflow as tf\n",
    "import h5py \n",
    "import scipy.stats\n",
    "import numpy as np\n",
    "import os\n",
    "import pandas as pd\n",
    "import glob\n",
    "os.environ['CUDA_VISIBLE_DEVICES'] = '3'\n",
    "celltype_list = ['K562','HepG2']\n",
    "model_list = ['nt','gpn','sei']"
   ]
  },
  {
   "cell_type": "code",
   "execution_count": 5,
   "id": "5b919217",
   "metadata": {},
   "outputs": [
    {
     "name": "stdout",
     "output_type": "stream",
     "text": [
      "nt\n",
      "K562\n",
      "WARNING:tensorflow:Keras is training/fitting/evaluating on array-like data. Keras may not be optimized for this format, so if your input data format is supported by TensorFlow I/O (https://github.com/tensorflow/io) we recommend using that to load a Dataset instead.\n"
     ]
    },
    {
     "name": "stderr",
     "output_type": "stream",
     "text": [
      "/home/ztang/.conda/envs/jax_tf/lib/python3.9/site-packages/keras/initializers/initializers.py:120: UserWarning: The initializer RandomNormal is unseeded and being called multiple times, which will return identical values each time (even if the initializer is unseeded). Please update your code to provide a seed to the initializer, or avoid using the same initalizer instance more than once.\n",
      "  warnings.warn(\n"
     ]
    },
    {
     "name": "stdout",
     "output_type": "stream",
     "text": [
      "WARNING:tensorflow:Keras is training/fitting/evaluating on array-like data. Keras may not be optimized for this format, so if your input data format is supported by TensorFlow I/O (https://github.com/tensorflow/io) we recommend using that to load a Dataset instead.\n",
      "{'PKLR': 0.19751416149787118}\n",
      "0.19751416149787118\n",
      "HepG2\n",
      "WARNING:tensorflow:Keras is training/fitting/evaluating on array-like data. Keras may not be optimized for this format, so if your input data format is supported by TensorFlow I/O (https://github.com/tensorflow/io) we recommend using that to load a Dataset instead.\n"
     ]
    },
    {
     "name": "stderr",
     "output_type": "stream",
     "text": [
      "/home/ztang/.conda/envs/jax_tf/lib/python3.9/site-packages/keras/initializers/initializers.py:120: UserWarning: The initializer RandomNormal is unseeded and being called multiple times, which will return identical values each time (even if the initializer is unseeded). Please update your code to provide a seed to the initializer, or avoid using the same initalizer instance more than once.\n",
      "  warnings.warn(\n"
     ]
    },
    {
     "name": "stdout",
     "output_type": "stream",
     "text": [
      "WARNING:tensorflow:Keras is training/fitting/evaluating on array-like data. Keras may not be optimized for this format, so if your input data format is supported by TensorFlow I/O (https://github.com/tensorflow/io) we recommend using that to load a Dataset instead.\n",
      "{'LDLR': 0.23770915408413978, 'SORT1': 0.1593171847183479, 'F9': 0.15761628410076345}\n",
      "0.18488087430108371\n",
      "gpn\n",
      "K562\n",
      "WARNING:tensorflow:Keras is training/fitting/evaluating on array-like data. Keras may not be optimized for this format, so if your input data format is supported by TensorFlow I/O (https://github.com/tensorflow/io) we recommend using that to load a Dataset instead.\n"
     ]
    },
    {
     "name": "stderr",
     "output_type": "stream",
     "text": [
      "/home/ztang/.conda/envs/jax_tf/lib/python3.9/site-packages/keras/initializers/initializers.py:120: UserWarning: The initializer RandomNormal is unseeded and being called multiple times, which will return identical values each time (even if the initializer is unseeded). Please update your code to provide a seed to the initializer, or avoid using the same initalizer instance more than once.\n",
      "  warnings.warn(\n"
     ]
    },
    {
     "name": "stdout",
     "output_type": "stream",
     "text": [
      "WARNING:tensorflow:Keras is training/fitting/evaluating on array-like data. Keras may not be optimized for this format, so if your input data format is supported by TensorFlow I/O (https://github.com/tensorflow/io) we recommend using that to load a Dataset instead.\n",
      "{'PKLR': 0.4374305979249826}\n",
      "0.4374305979249826\n",
      "HepG2\n",
      "WARNING:tensorflow:Keras is training/fitting/evaluating on array-like data. Keras may not be optimized for this format, so if your input data format is supported by TensorFlow I/O (https://github.com/tensorflow/io) we recommend using that to load a Dataset instead.\n"
     ]
    },
    {
     "name": "stderr",
     "output_type": "stream",
     "text": [
      "/home/ztang/.conda/envs/jax_tf/lib/python3.9/site-packages/keras/initializers/initializers.py:120: UserWarning: The initializer RandomNormal is unseeded and being called multiple times, which will return identical values each time (even if the initializer is unseeded). Please update your code to provide a seed to the initializer, or avoid using the same initalizer instance more than once.\n",
      "  warnings.warn(\n"
     ]
    },
    {
     "name": "stdout",
     "output_type": "stream",
     "text": [
      "WARNING:tensorflow:Keras is training/fitting/evaluating on array-like data. Keras may not be optimized for this format, so if your input data format is supported by TensorFlow I/O (https://github.com/tensorflow/io) we recommend using that to load a Dataset instead.\n",
      "{'LDLR': 0.2731957664281832, 'SORT1': 0.28335733297106114, 'F9': 0.4384242616828583}\n",
      "0.3316591203607009\n",
      "sei\n",
      "K562\n"
     ]
    },
    {
     "name": "stderr",
     "output_type": "stream",
     "text": [
      "/home/ztang/.conda/envs/jax_tf/lib/python3.9/site-packages/keras/initializers/initializers.py:120: UserWarning: The initializer RandomNormal is unseeded and being called multiple times, which will return identical values each time (even if the initializer is unseeded). Please update your code to provide a seed to the initializer, or avoid using the same initalizer instance more than once.\n",
      "  warnings.warn(\n"
     ]
    },
    {
     "name": "stdout",
     "output_type": "stream",
     "text": [
      "WARNING:tensorflow:Keras is training/fitting/evaluating on array-like data. Keras may not be optimized for this format, so if your input data format is supported by TensorFlow I/O (https://github.com/tensorflow/io) we recommend using that to load a Dataset instead.\n",
      "WARNING:tensorflow:Keras is training/fitting/evaluating on array-like data. Keras may not be optimized for this format, so if your input data format is supported by TensorFlow I/O (https://github.com/tensorflow/io) we recommend using that to load a Dataset instead.\n",
      "{'PKLR': 0.7006008564153172}\n",
      "0.7006008564153172\n",
      "HepG2\n"
     ]
    },
    {
     "name": "stderr",
     "output_type": "stream",
     "text": [
      "/home/ztang/.conda/envs/jax_tf/lib/python3.9/site-packages/keras/initializers/initializers.py:120: UserWarning: The initializer RandomNormal is unseeded and being called multiple times, which will return identical values each time (even if the initializer is unseeded). Please update your code to provide a seed to the initializer, or avoid using the same initalizer instance more than once.\n",
      "  warnings.warn(\n"
     ]
    },
    {
     "name": "stdout",
     "output_type": "stream",
     "text": [
      "WARNING:tensorflow:Keras is training/fitting/evaluating on array-like data. Keras may not be optimized for this format, so if your input data format is supported by TensorFlow I/O (https://github.com/tensorflow/io) we recommend using that to load a Dataset instead.\n",
      "WARNING:tensorflow:Keras is training/fitting/evaluating on array-like data. Keras may not be optimized for this format, so if your input data format is supported by TensorFlow I/O (https://github.com/tensorflow/io) we recommend using that to load a Dataset instead.\n",
      "{'LDLR': 0.602846117631191, 'SORT1': 0.5720822845392619, 'F9': 0.5619209740695873}\n",
      "0.5789497920800134\n"
     ]
    }
   ],
   "source": [
    "for model_n in model_list:\n",
    "    print(model_n)    \n",
    "    for celltype in celltype_list:\n",
    "        print(celltype)\n",
    "        data = '../data/CAGI/230_embed/%s.h5'%model_n\n",
    "        model_dir = glob.glob('../model/lenti_MPRA/%s*%s*'%(model_n,celltype))\n",
    "\n",
    "        if len(model_dir) != 1:\n",
    "             model_dir = glob.glob('../model/lenti_MPRA/%s1.0*%s*'%(model_n,celltype))[0]\n",
    "        else:\n",
    "            model_dir = model_dir[0]\n",
    "\n",
    "\n",
    "        file = h5py.File(data,'r')\n",
    "        model = tf.keras.models.load_model(model_dir)\n",
    "        #Read CAGI metadata\n",
    "        exp_df = pd.read_csv('../data/CAGI/230/final_cagi_metadata.csv')\n",
    "        target = exp_df['6'].values.tolist()\n",
    "\n",
    "        #zero-shot predictions\n",
    "        alt_pred = model.predict(file['alt'],verbose = 0)\n",
    "        ref_pred = model.predict(file['ref'],verbose=0)\n",
    "        pred = alt_pred-ref_pred\n",
    "\n",
    "        #evaluations\n",
    "        perf = {}\n",
    "        if celltype == 'K562':\n",
    "            exp_list = ['PKLR']\n",
    "        else:\n",
    "            exp_list = ['LDLR','SORT1','F9']\n",
    "        for exp in exp_list:\n",
    "            sub_df = exp_df[exp_df['8'] == exp]\n",
    "            exp_target = np.array(target)[sub_df.index.to_list()]\n",
    "            exp_pred = np.squeeze(pred)[sub_df.index.to_list()]\n",
    "            perf[exp] = scipy.stats.pearsonr(exp_pred,exp_target)[0]\n",
    "        print(perf)\n",
    "        print(np.mean(list(perf.values())))"
   ]
  },
  {
   "cell_type": "code",
   "execution_count": 4,
   "id": "027f4dd2",
   "metadata": {},
   "outputs": [
    {
     "data": {
      "text/plain": [
       "<keras.engine.functional.Functional at 0x7f566bd3d850>"
      ]
     },
     "execution_count": 4,
     "metadata": {},
     "output_type": "execute_result"
    }
   ],
   "source": [
    "model"
   ]
  },
  {
   "cell_type": "code",
   "execution_count": 6,
   "id": "57b8aec0",
   "metadata": {},
   "outputs": [
    {
     "data": {
      "text/plain": [
       "[]"
      ]
     },
     "execution_count": 6,
     "metadata": {},
     "output_type": "execute_result"
    }
   ],
   "source": [
    "glob.glob('../model/lenti_MPRA/%s*%s*'%(model,celltype))"
   ]
  },
  {
   "cell_type": "code",
   "execution_count": null,
   "id": "c05fd16c",
   "metadata": {},
   "outputs": [],
   "source": []
  }
 ],
 "metadata": {
  "kernelspec": {
   "display_name": "Python 3.8.10 ('sealion_env': venv)",
   "language": "python",
   "name": "python3"
  },
  "language_info": {
   "codemirror_mode": {
    "name": "ipython",
    "version": 3
   },
   "file_extension": ".py",
   "mimetype": "text/x-python",
   "name": "python",
   "nbconvert_exporter": "python",
   "pygments_lexer": "ipython3",
   "version": "3.9.16"
  },
  "vscode": {
   "interpreter": {
    "hash": "7af5d8680701852ae53b163bbff3c93bbf756fff6d9db5099a4b55b46d482aea"
   }
  }
 },
 "nbformat": 4,
 "nbformat_minor": 5
}
