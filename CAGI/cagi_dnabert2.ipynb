{
 "cells": [
  {
   "cell_type": "code",
   "execution_count": 1,
   "metadata": {},
   "outputs": [
    {
     "name": "stderr",
     "output_type": "stream",
     "text": [
      "/home/ztang/.conda/envs/torch_env/lib/python3.11/site-packages/tqdm/auto.py:21: TqdmWarning: IProgress not found. Please update jupyter and ipywidgets. See https://ipywidgets.readthedocs.io/en/stable/user_install.html\n",
      "  from .autonotebook import tqdm as notebook_tqdm\n",
      "Explicitly passing a `revision` is encouraged when loading a configuration with custom code to ensure no malicious code has been contributed in a newer revision.\n",
      "Explicitly passing a `revision` is encouraged when loading a model with custom code to ensure no malicious code has been contributed in a newer revision.\n",
      "/home/ztang/.cache/huggingface/modules/transformers_modules/zhihan1996/DNABERT-2-117M/1d020b803b871a976f5f3d5565f0eac8f2c7bb81/bert_layers.py:125: UserWarning: Unable to import Triton; defaulting MosaicBERT attention implementation to pytorch (this will reduce throughput when using this model).\n",
      "  warnings.warn(\n",
      "Some weights of the model checkpoint at zhihan1996/DNABERT-2-117M were not used when initializing BertModel: ['cls.predictions.transform.LayerNorm.bias', 'cls.predictions.transform.dense.bias', 'cls.predictions.transform.LayerNorm.weight', 'cls.predictions.decoder.weight', 'cls.predictions.transform.dense.weight', 'cls.predictions.decoder.bias']\n",
      "- This IS expected if you are initializing BertModel from the checkpoint of a model trained on another task or with another architecture (e.g. initializing a BertForSequenceClassification model from a BertForPreTraining model).\n",
      "- This IS NOT expected if you are initializing BertModel from the checkpoint of a model that you expect to be exactly identical (initializing a BertForSequenceClassification model from a BertForSequenceClassification model).\n"
     ]
    }
   ],
   "source": [
    "import torch\n",
    "from transformers import AutoTokenizer, AutoModel\n",
    "import numpy as np\n",
    "from tqdm import tqdm\n",
    "import h5py \n",
    "import os\n",
    "import sys\n",
    "import glob\n",
    "sys.path.append('../data_generation/')\n",
    "os.environ['CUDA_VISIBLE_DEVICES']='3'\n",
    "import utils\n",
    "\n",
    "tokenizer = AutoTokenizer.from_pretrained(\"zhihan1996/DNABERT-2-117M\", trust_remote_code=True)\n",
    "model = AutoModel.from_pretrained(\"zhihan1996/DNABERT-2-117M\", trust_remote_code=True).to('cuda')\n",
    "model.eval();"
   ]
  },
  {
   "cell_type": "code",
   "execution_count": 2,
   "metadata": {},
   "outputs": [],
   "source": [
    "datalen = '998'\n",
    "file = h5py.File(\"../data/CAGI/\"+datalen+\"/CAGI_onehot.h5\", \"r\")\n",
    "alt = file['alt']\n",
    "ref = file['ref']"
   ]
  },
  {
   "cell_type": "code",
   "execution_count": 3,
   "metadata": {},
   "outputs": [
    {
     "name": "stderr",
     "output_type": "stream",
     "text": [
      "100%|██████████| 369/369 [05:13<00:00,  1.18it/s]\n"
     ]
    }
   ],
   "source": [
    "N, L, A = alt.shape\n",
    "batch_size = 50\n",
    "cos = []\n",
    "dot = []\n",
    "l1 = []\n",
    "l2 = []\n",
    "for i in tqdm(range(0,N,batch_size)):\n",
    "    b_size = batch_size\n",
    "    if i + batch_size > N:\n",
    "        b_size = N-i\n",
    "    onehot = np.concatenate((ref[i:i+b_size],alt[i:i+b_size]))\n",
    "    seq = utils.onehot_to_seq(onehot)\n",
    "    with torch.inference_mode():\n",
    "        input_ids = tokenizer(seq, return_tensors=\"pt\",padding='max_length',max_length=226)[\"input_ids\"].to('cuda')\n",
    "        hidden_states = model(input_ids)[0].cpu().detach().numpy()\n",
    "    for a in range(b_size):\n",
    "        ref_out = hidden_states[a]\n",
    "        alt_out = hidden_states[a+b_size]\n",
    "        cos.append((ref_out * alt_out).sum()/(np.linalg.norm(ref_out)*np.linalg.norm(alt_out)))\n",
    "        dot.append((ref_out * alt_out).sum())\n",
    "        l1.append(np.absolute(ref_out - alt_out).sum())\n",
    "        l2.append(np.square(ref_out - alt_out).sum())"
   ]
  },
  {
   "cell_type": "code",
   "execution_count": 4,
   "metadata": {},
   "outputs": [],
   "source": [
    "output = h5py.File('../data/CAGI/'+'cagi_'+datalen+'_'+'dnabert2.h5', 'w')\n",
    "output.create_dataset('cosine', data=np.array(cos))\n",
    "output.create_dataset('dot', data=np.array(dot))\n",
    "output.create_dataset('l1', data=np.array(l1))\n",
    "output.create_dataset('l2', data=np.array(l2))\n",
    "output.close()"
   ]
  },
  {
   "cell_type": "code",
   "execution_count": 5,
   "metadata": {},
   "outputs": [],
   "source": [
    "import h5py\n",
    "import pandas as pd\n",
    "import numpy as np\n",
    "from operator import itemgetter\n",
    "import seaborn as sns\n",
    "import matplotlib.pyplot as plt \n",
    "import scipy.stats as stats\n",
    "datalen = '998'\n",
    "cagi_df = pd.read_csv('../data/CAGI/'+datalen+'/final_cagi_metadata.csv',\n",
    "                      index_col=0).reset_index()\n",
    "target = cagi_df['6'].values.tolist()\n",
    "exp_list = cagi_df['8'].unique()\n",
    "cagi_result = h5py.File('../data/CAGI/'+'cagi_'+datalen+'_'+'dnabert2.h5', 'r')"
   ]
  },
  {
   "cell_type": "code",
   "execution_count": 6,
   "metadata": {},
   "outputs": [
    {
     "name": "stdout",
     "output_type": "stream",
     "text": [
      "cosine\n",
      "LDLR\n",
      "-0.08258992666052817\n",
      "SORT1\n",
      "-0.010052575379520095\n",
      "F9\n",
      "0.027784013416209896\n",
      "PKLR\n",
      "0.013793714344828479\n",
      "dot\n",
      "LDLR\n",
      "-0.08532688469556723\n",
      "SORT1\n",
      "-0.01534769512394398\n",
      "F9\n",
      "-0.0077194387091766075\n",
      "PKLR\n",
      "0.30991893844919394\n",
      "l1\n",
      "LDLR\n",
      "0.07815354726339352\n",
      "SORT1\n",
      "0.009764958350297075\n",
      "F9\n",
      "-0.020930475924285253\n",
      "PKLR\n",
      "0.0014890268020691902\n",
      "l2\n",
      "LDLR\n",
      "0.07581393697686814\n",
      "SORT1\n",
      "0.009826799329970284\n",
      "F9\n",
      "-0.02904052790222869\n",
      "PKLR\n",
      "0.0008220143192249419\n"
     ]
    }
   ],
   "source": [
    "perf = []\n",
    "for key in cagi_result.keys():\n",
    "    print(key)\n",
    "    cagi_llr = cagi_result[key]\n",
    "    for exp in ['LDLR','SORT1','F9','PKLR']:\n",
    "        sub_df = cagi_df[cagi_df['8'] == exp]\n",
    "        exp_target = np.array(target)[sub_df.index.to_list()]\n",
    "        exp_pred = np.squeeze(cagi_llr)[sub_df.index.to_list()]\n",
    "        exp_target = np.absolute(exp_target)\n",
    "        exp_pred = exp_pred\n",
    "        print(exp)\n",
    "        perf.append(stats.pearsonr(exp_pred,exp_target)[0])\n",
    "        print(stats.pearsonr(exp_pred,exp_target)[0])"
   ]
  },
  {
   "cell_type": "code",
   "execution_count": null,
   "metadata": {},
   "outputs": [],
   "source": []
  }
 ],
 "metadata": {
  "kernelspec": {
   "display_name": "jax_tf",
   "language": "python",
   "name": "python3"
  },
  "language_info": {
   "codemirror_mode": {
    "name": "ipython",
    "version": 3
   },
   "file_extension": ".py",
   "mimetype": "text/x-python",
   "name": "python",
   "nbconvert_exporter": "python",
   "pygments_lexer": "ipython3",
   "version": "3.11.3"
  }
 },
 "nbformat": 4,
 "nbformat_minor": 2
}
