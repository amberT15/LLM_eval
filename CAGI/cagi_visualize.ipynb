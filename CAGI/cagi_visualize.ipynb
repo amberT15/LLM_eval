{
 "cells": [
  {
   "attachments": {},
   "cell_type": "markdown",
   "id": "6b98cb6b",
   "metadata": {},
   "source": [
    "## One hot models\n",
    "include one-hot CNN and one-hot Residual models"
   ]
  },
  {
   "cell_type": "code",
   "execution_count": 1,
   "id": "3db3994e",
   "metadata": {},
   "outputs": [
    {
     "name": "stderr",
     "output_type": "stream",
     "text": [
      "2024-01-17 16:20:04.543903: I tensorflow/core/platform/cpu_feature_guard.cc:182] This TensorFlow binary is optimized to use available CPU instructions in performance-critical operations.\n",
      "To enable the following instructions: SSE4.1 SSE4.2 AVX AVX2 FMA, in other operations, rebuild TensorFlow with the appropriate compiler flags.\n"
     ]
    }
   ],
   "source": [
    "import tensorflow as tf\n",
    "import h5py \n",
    "import scipy.stats\n",
    "import numpy as np\n",
    "import os\n",
    "import pandas as pd\n",
    "os.environ['CUDA_VISIBLE_DEVICES'] = '0'\n",
    "celltype_list = ['K562','HepG2']"
   ]
  },
  {
   "cell_type": "code",
   "execution_count": 12,
   "id": "504298f1",
   "metadata": {},
   "outputs": [
    {
     "name": "stdout",
     "output_type": "stream",
     "text": [
      "###########K562########\n",
      "base_CNN_model.h5\n"
     ]
    },
    {
     "name": "stderr",
     "output_type": "stream",
     "text": [
      "/home/ztang/.conda/envs/jax_tf/lib/python3.9/site-packages/keras/initializers/initializers.py:120: UserWarning: The initializer RandomNormal is unseeded and being called multiple times, which will return identical values each time (even if the initializer is unseeded). Please update your code to provide a seed to the initializer, or avoid using the same initalizer instance more than once.\n",
      "  warnings.warn(\n",
      "2024-01-17 16:30:10.468787: I tensorflow/compiler/xla/stream_executor/cuda/cuda_blas.cc:637] TensorFloat-32 will be used for the matrix multiplication. This will only be logged once.\n",
      "2024-01-17 16:30:10.574442: I tensorflow/compiler/xla/stream_executor/cuda/cuda_dnn.cc:424] Loaded cuDNN version 8800\n"
     ]
    },
    {
     "name": "stdout",
     "output_type": "stream",
     "text": [
      "{'PKLR': 0.42567543950445913}\n",
      "0.42567543950445913\n",
      "ResNet.h5\n",
      "{'PKLR': 0.5509142235337524}\n",
      "0.5509142235337524\n",
      "###########HepG2########\n",
      "base_CNN_model.h5\n"
     ]
    },
    {
     "name": "stderr",
     "output_type": "stream",
     "text": [
      "/home/ztang/.conda/envs/jax_tf/lib/python3.9/site-packages/keras/initializers/initializers.py:120: UserWarning: The initializer RandomNormal is unseeded and being called multiple times, which will return identical values each time (even if the initializer is unseeded). Please update your code to provide a seed to the initializer, or avoid using the same initalizer instance more than once.\n",
      "  warnings.warn(\n"
     ]
    },
    {
     "name": "stdout",
     "output_type": "stream",
     "text": [
      "{'LDLR': 0.3140119684297847, 'SORT1': 0.26455394176081337, 'F9': 0.3597829131304178}\n",
      "0.3127829411070053\n",
      "ResNet.h5\n",
      "{'LDLR': 0.5142895208051962, 'SORT1': 0.4411468053560604, 'F9': 0.5025298928547497}\n",
      "0.4859887396720021\n"
     ]
    }
   ],
   "source": [
    "tf.get_logger().setLevel('ERROR')\n",
    "for celltype in celltype_list:\n",
    "    cnn_dir = '../model/lenti_MPRA/lenti_MPRA_onehot/'+celltype+'/base_CNN_model.h5'\n",
    "    rb_dir = '../model/lenti_MPRA/lenti_MPRA_onehot/'+celltype+'/ResNet.h5'\n",
    "    print('###########' + celltype + '########')\n",
    "    exp_df = pd.read_csv('../data/CAGI/'+celltype+'/metadata.csv')\n",
    "    target = exp_df['6'].values.tolist()\n",
    "    file = h5py.File(\"../data/CAGI/\"+celltype+\"/onehot.h5\", \"r\")\n",
    "    alt = file['alt']\n",
    "    ref = file['ref']\n",
    "    \n",
    "    for model_dir in [cnn_dir,rb_dir]:\n",
    "        print(model_dir.split('/')[-1])\n",
    "        model = tf.keras.models.load_model(model_dir)\n",
    "        alt_pred = model.predict(alt,verbose=0)\n",
    "        ref_pred = model.predict(ref,verbose = 0)\n",
    "        pred = alt_pred - ref_pred\n",
    "        perf = {}\n",
    "        for exp in exp_df['8'].unique():\n",
    "            sub_df = exp_df[exp_df['8'] == exp]\n",
    "            exp_target = np.array(target)[sub_df.index.to_list()]\n",
    "            exp_pred = np.squeeze(pred)[sub_df.index.to_list()]\n",
    "            perf[exp] = scipy.stats.pearsonr(exp_pred,exp_target)[0]\n",
    "        print(perf)\n",
    "        print(np.mean(list(perf.values())))\n"
   ]
  },
  {
   "cell_type": "code",
   "execution_count": null,
   "id": "a3214f4a",
   "metadata": {},
   "outputs": [],
   "source": []
  },
  {
   "attachments": {},
   "cell_type": "markdown",
   "id": "60cf13e8",
   "metadata": {},
   "source": []
  },
  {
   "attachments": {},
   "cell_type": "markdown",
   "id": "45294847",
   "metadata": {},
   "source": [
    "## Embedding models\n",
    "GPN embedding trained models"
   ]
  },
  {
   "cell_type": "code",
   "execution_count": 1,
   "id": "c4025429",
   "metadata": {},
   "outputs": [
    {
     "name": "stderr",
     "output_type": "stream",
     "text": [
      "2024-01-18 11:44:35.051205: I tensorflow/core/platform/cpu_feature_guard.cc:182] This TensorFlow binary is optimized to use available CPU instructions in performance-critical operations.\n",
      "To enable the following instructions: SSE4.1 SSE4.2 AVX AVX2 FMA, in other operations, rebuild TensorFlow with the appropriate compiler flags.\n"
     ]
    }
   ],
   "source": [
    "import tensorflow as tf\n",
    "import h5py \n",
    "import scipy.stats\n",
    "import numpy as np\n",
    "import os\n",
    "import pandas as pd\n",
    "os.environ['CUDA_VISIBLE_DEVICES'] = '0'\n",
    "celltype_list = ['K562','HepG2']"
   ]
  },
  {
   "cell_type": "code",
   "execution_count": 2,
   "id": "805d9207",
   "metadata": {},
   "outputs": [
    {
     "name": "stdout",
     "output_type": "stream",
     "text": [
      "######K562######\n"
     ]
    },
    {
     "name": "stderr",
     "output_type": "stream",
     "text": [
      "2024-01-18 11:44:42.142873: I tensorflow/core/common_runtime/gpu/gpu_device.cc:1635] Created device /job:localhost/replica:0/task:0/device:GPU:0 with 78973 MB memory:  -> device: 0, name: NVIDIA A100 80GB PCIe, pci bus id: 0000:07:00.0, compute capability: 8.0\n",
      "/home/ztang/.conda/envs/jax_tf/lib/python3.9/site-packages/keras/initializers/initializers.py:120: UserWarning: The initializer RandomNormal is unseeded and being called multiple times, which will return identical values each time (even if the initializer is unseeded). Please update your code to provide a seed to the initializer, or avoid using the same initalizer instance more than once.\n",
      "  warnings.warn(\n"
     ]
    },
    {
     "ename": "KeyError",
     "evalue": "\"Unable to synchronously open object (object 'alt' doesn't exist)\"",
     "output_type": "error",
     "traceback": [
      "\u001b[0;31m---------------------------------------------------------------------------\u001b[0m",
      "\u001b[0;31mKeyError\u001b[0m                                  Traceback (most recent call last)",
      "Cell \u001b[0;32mIn[2], line 14\u001b[0m\n\u001b[1;32m     11\u001b[0m target \u001b[38;5;241m=\u001b[39m exp_df[\u001b[38;5;124m'\u001b[39m\u001b[38;5;124m6\u001b[39m\u001b[38;5;124m'\u001b[39m]\u001b[38;5;241m.\u001b[39mvalues\u001b[38;5;241m.\u001b[39mtolist()\n\u001b[1;32m     13\u001b[0m \u001b[38;5;66;03m#zero-shot predictions\u001b[39;00m\n\u001b[0;32m---> 14\u001b[0m alt_pred \u001b[38;5;241m=\u001b[39m model\u001b[38;5;241m.\u001b[39mpredict(\u001b[43mfile\u001b[49m\u001b[43m[\u001b[49m\u001b[38;5;124;43m'\u001b[39;49m\u001b[38;5;124;43malt\u001b[39;49m\u001b[38;5;124;43m'\u001b[39;49m\u001b[43m]\u001b[49m,verbose \u001b[38;5;241m=\u001b[39m \u001b[38;5;241m0\u001b[39m)\n\u001b[1;32m     15\u001b[0m ref_pred \u001b[38;5;241m=\u001b[39m model\u001b[38;5;241m.\u001b[39mpredict(file[\u001b[38;5;124m'\u001b[39m\u001b[38;5;124mref\u001b[39m\u001b[38;5;124m'\u001b[39m],verbose\u001b[38;5;241m=\u001b[39m\u001b[38;5;241m0\u001b[39m)\n\u001b[1;32m     16\u001b[0m pred \u001b[38;5;241m=\u001b[39m alt_pred \u001b[38;5;241m-\u001b[39m ref_pred\n",
      "File \u001b[0;32mh5py/_objects.pyx:54\u001b[0m, in \u001b[0;36mh5py._objects.with_phil.wrapper\u001b[0;34m()\u001b[0m\n",
      "File \u001b[0;32mh5py/_objects.pyx:55\u001b[0m, in \u001b[0;36mh5py._objects.with_phil.wrapper\u001b[0;34m()\u001b[0m\n",
      "File \u001b[0;32m~/.conda/envs/jax_tf/lib/python3.9/site-packages/h5py/_hl/group.py:357\u001b[0m, in \u001b[0;36mGroup.__getitem__\u001b[0;34m(self, name)\u001b[0m\n\u001b[1;32m    355\u001b[0m         \u001b[38;5;28;01mraise\u001b[39;00m \u001b[38;5;167;01mValueError\u001b[39;00m(\u001b[38;5;124m\"\u001b[39m\u001b[38;5;124mInvalid HDF5 object reference\u001b[39m\u001b[38;5;124m\"\u001b[39m)\n\u001b[1;32m    356\u001b[0m \u001b[38;5;28;01melif\u001b[39;00m \u001b[38;5;28misinstance\u001b[39m(name, (\u001b[38;5;28mbytes\u001b[39m, \u001b[38;5;28mstr\u001b[39m)):\n\u001b[0;32m--> 357\u001b[0m     oid \u001b[38;5;241m=\u001b[39m \u001b[43mh5o\u001b[49m\u001b[38;5;241;43m.\u001b[39;49m\u001b[43mopen\u001b[49m\u001b[43m(\u001b[49m\u001b[38;5;28;43mself\u001b[39;49m\u001b[38;5;241;43m.\u001b[39;49m\u001b[43mid\u001b[49m\u001b[43m,\u001b[49m\u001b[43m \u001b[49m\u001b[38;5;28;43mself\u001b[39;49m\u001b[38;5;241;43m.\u001b[39;49m\u001b[43m_e\u001b[49m\u001b[43m(\u001b[49m\u001b[43mname\u001b[49m\u001b[43m)\u001b[49m\u001b[43m,\u001b[49m\u001b[43m \u001b[49m\u001b[43mlapl\u001b[49m\u001b[38;5;241;43m=\u001b[39;49m\u001b[38;5;28;43mself\u001b[39;49m\u001b[38;5;241;43m.\u001b[39;49m\u001b[43m_lapl\u001b[49m\u001b[43m)\u001b[49m\n\u001b[1;32m    358\u001b[0m \u001b[38;5;28;01melse\u001b[39;00m:\n\u001b[1;32m    359\u001b[0m     \u001b[38;5;28;01mraise\u001b[39;00m \u001b[38;5;167;01mTypeError\u001b[39;00m(\u001b[38;5;124m\"\u001b[39m\u001b[38;5;124mAccessing a group is done with bytes or str, \u001b[39m\u001b[38;5;124m\"\u001b[39m\n\u001b[1;32m    360\u001b[0m                     \u001b[38;5;124m\"\u001b[39m\u001b[38;5;124mnot \u001b[39m\u001b[38;5;132;01m{}\u001b[39;00m\u001b[38;5;124m\"\u001b[39m\u001b[38;5;241m.\u001b[39mformat(\u001b[38;5;28mtype\u001b[39m(name)))\n",
      "File \u001b[0;32mh5py/_objects.pyx:54\u001b[0m, in \u001b[0;36mh5py._objects.with_phil.wrapper\u001b[0;34m()\u001b[0m\n",
      "File \u001b[0;32mh5py/_objects.pyx:55\u001b[0m, in \u001b[0;36mh5py._objects.with_phil.wrapper\u001b[0;34m()\u001b[0m\n",
      "File \u001b[0;32mh5py/h5o.pyx:190\u001b[0m, in \u001b[0;36mh5py.h5o.open\u001b[0;34m()\u001b[0m\n",
      "\u001b[0;31mKeyError\u001b[0m: \"Unable to synchronously open object (object 'alt' doesn't exist)\""
     ]
    }
   ],
   "source": [
    "for celltype in celltype_list:\n",
    "    print('######'+celltype+'######')\n",
    "    #Load model and dataset\n",
    "    model_dir = '../model/lenti_MPRA/lenti_MPRA_embed/'+celltype+'/gpn.h5'\n",
    "    data = '../data/CAGI/cagi_512_gpn.h5'\n",
    "    file = h5py.File(data,'r')\n",
    "    model = tf.keras.models.load_model(model_dir)\n",
    "    \n",
    "    #Read CAGI metadata\n",
    "    exp_df = pd.read_csv('../data/CAGI/'+celltype+'/metadata.csv')\n",
    "    target = exp_df['6'].values.tolist()\n",
    "\n",
    "    #zero-shot predictions\n",
    "    alt_pred = model.predict(file['alt'],verbose = 0)\n",
    "    ref_pred = model.predict(file['ref'],verbose=0)\n",
    "    pred = alt_pred - ref_pred\n",
    "\n",
    "    #evaluations\n",
    "    perf = {}\n",
    "    for exp in exp_df['8'].unique():\n",
    "        sub_df = exp_df[exp_df['8'] == exp]\n",
    "        exp_target = np.array(target)[sub_df.index.to_list()]\n",
    "        exp_pred = np.squeeze(pred)[sub_df.index.to_list()]\n",
    "        perf[exp] = scipy.stats.pearsonr(exp_pred,exp_target)[0]\n",
    "    print(perf)\n",
    "    print(np.mean(list(perf.values())))"
   ]
  },
  {
   "cell_type": "code",
   "execution_count": 3,
   "id": "dfbba139",
   "metadata": {},
   "outputs": [
    {
     "data": {
      "text/plain": [
       "<KeysViewHDF5 ['alt', 'ref']>"
      ]
     },
     "execution_count": 3,
     "metadata": {},
     "output_type": "execute_result"
    }
   ],
   "source": [
    "file.keys()"
   ]
  },
  {
   "cell_type": "code",
   "execution_count": 4,
   "id": "0c219519",
   "metadata": {},
   "outputs": [
    {
     "data": {
      "text/plain": [
       "<KeysViewHDF5 ['llr']>"
      ]
     },
     "execution_count": 4,
     "metadata": {},
     "output_type": "execute_result"
    }
   ],
   "source": [
    "file.keys()"
   ]
  },
  {
   "cell_type": "code",
   "execution_count": null,
   "id": "717a7acd",
   "metadata": {},
   "outputs": [],
   "source": []
  }
 ],
 "metadata": {
  "kernelspec": {
   "display_name": "Python 3.8.10 ('sealion_env': venv)",
   "language": "python",
   "name": "python3"
  },
  "language_info": {
   "codemirror_mode": {
    "name": "ipython",
    "version": 3
   },
   "file_extension": ".py",
   "mimetype": "text/x-python",
   "name": "python",
   "nbconvert_exporter": "python",
   "pygments_lexer": "ipython3",
   "version": "3.9.16"
  },
  "vscode": {
   "interpreter": {
    "hash": "7af5d8680701852ae53b163bbff3c93bbf756fff6d9db5099a4b55b46d482aea"
   }
  }
 },
 "nbformat": 4,
 "nbformat_minor": 5
}
