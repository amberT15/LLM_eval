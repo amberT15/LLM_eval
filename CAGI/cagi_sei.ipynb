{
 "cells": [
  {
   "cell_type": "code",
   "execution_count": 1,
   "metadata": {},
   "outputs": [],
   "source": [
    "import torch\n",
    "import os\n",
    "os.environ['CUDA_VISIBLE_DEVICES'] ='3'\n",
    "import sys\n",
    "sys.path.append('../model/sei_model/')\n",
    "import sei\n",
    "from torchinfo import summary\n",
    "import random\n",
    "import numpy as np\n",
    "import h5py\n",
    "from tqdm import tqdm\n",
    "import math\n",
    "import random\n",
    "import glob\n",
    "sys.path.append('../data_generation/')\n",
    "import utils\n",
    "\n",
    "file_dict = torch.load('../model/sei_model/sei.pth')\n",
    "clean_dict = {}\n",
    "for key in file_dict:\n",
    "    clean_key = key[13:]\n",
    "    clean_dict[clean_key] = file_dict[key]\n",
    "model = sei.Sei();\n",
    "model.load_state_dict(clean_dict)\n",
    "model.to('cuda').eval();"
   ]
  },
  {
   "cell_type": "code",
   "execution_count": 7,
   "metadata": {},
   "outputs": [],
   "source": [
    "class embed_extractor():\n",
    "    def __init__(self):\n",
    "        self.activation = {}\n",
    "    def get_activation(self,name):\n",
    "        def hook(model, input, output):\n",
    "            if name not in self.activation.keys():\n",
    "                self.activation[name] = []\n",
    "            self.activation[name].extend(output.detach().cpu().numpy())\n",
    "        return hook"
   ]
  },
  {
   "cell_type": "markdown",
   "metadata": {},
   "source": [
    "## Zero shot learning for CAGI"
   ]
  },
  {
   "cell_type": "code",
   "execution_count": 3,
   "metadata": {},
   "outputs": [],
   "source": [
    "datalen = '4096'\n",
    "file = h5py.File(\"../data/CAGI/\"+datalen+\"/CAGI_onehot.h5\", \"r\")\n",
    "alt = file['alt']\n",
    "ref = file['ref']"
   ]
  },
  {
   "cell_type": "code",
   "execution_count": 13,
   "metadata": {},
   "outputs": [
    {
     "name": "stderr",
     "output_type": "stream",
     "text": [
      "100%|██████████| 145/145 [00:23<00:00,  6.14it/s]\n",
      "100%|██████████| 145/145 [00:23<00:00,  6.06it/s]\n"
     ]
    }
   ],
   "source": [
    "embed = embed_extractor()\n",
    "model.spline_tr.register_forward_hook(embed.get_activation('s_out'))\n",
    "batch_size = 128\n",
    "#LentiMPRA\n",
    "for i in tqdm(range(0,len(alt),batch_size)):\n",
    "    alt_seq  = np.swapaxes(alt[i:i+batch_size],1,2).astype('float32')   \n",
    "    with torch.no_grad():\n",
    "        output_seq = model(torch.from_numpy(alt_seq).to('cuda'))\n",
    "alt_out = np.array(embed.activation['s_out'])   \n",
    "\n",
    "embed = embed_extractor()\n",
    "model.spline_tr.register_forward_hook(embed.get_activation('s_out'))\n",
    "for i in tqdm(range(0,len(alt),batch_size)):\n",
    "    ref_seq  = np.swapaxes(ref[i:i+batch_size],1,2).astype('float32')   \n",
    "    with torch.no_grad():\n",
    "        output_seq = model(torch.from_numpy(ref_seq).to('cuda'))\n",
    "ref_out = np.array(embed.activation['s_out']) "
   ]
  },
  {
   "cell_type": "code",
   "execution_count": 19,
   "metadata": {},
   "outputs": [],
   "source": [
    "cos = []\n",
    "dot = []\n",
    "l1 = []\n",
    "l2 = []\n",
    "for i in range(len(alt)):\n",
    "    cos.append((ref_out[i] * alt_out[i]).sum()/(np.linalg.norm(ref_out[i])*np.linalg.norm(alt_out[i])))\n",
    "    dot.append((ref_out[i] * alt_out[i]).sum())\n",
    "    l1.append(np.absolute(ref_out[i] - alt_out[i]).sum())\n",
    "    l2.append(np.square(ref_out[i] - alt_out[i]).sum())"
   ]
  },
  {
   "cell_type": "code",
   "execution_count": 22,
   "metadata": {},
   "outputs": [],
   "source": [
    "output = h5py.File('../data/CAGI/'+'cagi_'+datalen+'_'+'sei.h5', 'w')\n",
    "output.create_dataset('cosine', data=np.array(cos))\n",
    "output.create_dataset('dot', data=np.array(dot))\n",
    "output.create_dataset('l1', data=np.array(l1))\n",
    "output.create_dataset('l2', data=np.array(l2))\n",
    "output.close()"
   ]
  },
  {
   "cell_type": "markdown",
   "metadata": {},
   "source": [
    "## Organize Performance"
   ]
  },
  {
   "cell_type": "code",
   "execution_count": 1,
   "metadata": {},
   "outputs": [],
   "source": [
    "import h5py\n",
    "import pandas as pd\n",
    "import numpy as np\n",
    "from operator import itemgetter\n",
    "import seaborn as sns\n",
    "import matplotlib.pyplot as plt \n",
    "import scipy.stats as stats\n",
    "datalen = '4096'\n",
    "cagi_df = pd.read_csv('../data/CAGI/'+datalen+'/final_cagi_metadata.csv',\n",
    "                      index_col=0).reset_index()\n",
    "target = cagi_df['6'].values.tolist()\n",
    "exp_list = cagi_df['8'].unique()\n",
    "cagi_result = h5py.File('../data/CAGI/'+'cagi_'+datalen+'_'+'sei.h5', 'r')"
   ]
  },
  {
   "cell_type": "code",
   "execution_count": 4,
   "metadata": {},
   "outputs": [
    {
     "data": {
      "text/html": [
       "<div>\n",
       "<style scoped>\n",
       "    .dataframe tbody tr th:only-of-type {\n",
       "        vertical-align: middle;\n",
       "    }\n",
       "\n",
       "    .dataframe tbody tr th {\n",
       "        vertical-align: top;\n",
       "    }\n",
       "\n",
       "    .dataframe thead th {\n",
       "        text-align: right;\n",
       "    }\n",
       "</style>\n",
       "<table border=\"1\" class=\"dataframe\">\n",
       "  <thead>\n",
       "    <tr style=\"text-align: right;\">\n",
       "      <th></th>\n",
       "      <th>index</th>\n",
       "      <th>0</th>\n",
       "      <th>1</th>\n",
       "      <th>2</th>\n",
       "      <th>3</th>\n",
       "      <th>4</th>\n",
       "      <th>5</th>\n",
       "      <th>6</th>\n",
       "      <th>7</th>\n",
       "      <th>8</th>\n",
       "      <th>9</th>\n",
       "    </tr>\n",
       "  </thead>\n",
       "  <tbody>\n",
       "    <tr>\n",
       "      <th>1113</th>\n",
       "      <td>1115</td>\n",
       "      <td>chr19</td>\n",
       "      <td>11197874</td>\n",
       "      <td>11201970</td>\n",
       "      <td>A</td>\n",
       "      <td>C</td>\n",
       "      <td>+</td>\n",
       "      <td>0.11</td>\n",
       "      <td>0.02</td>\n",
       "      <td>LDLR</td>\n",
       "      <td>challenge</td>\n",
       "    </tr>\n",
       "    <tr>\n",
       "      <th>1114</th>\n",
       "      <td>1116</td>\n",
       "      <td>chr19</td>\n",
       "      <td>11197874</td>\n",
       "      <td>11201970</td>\n",
       "      <td>A</td>\n",
       "      <td>G</td>\n",
       "      <td>+</td>\n",
       "      <td>-0.03</td>\n",
       "      <td>0.00</td>\n",
       "      <td>LDLR</td>\n",
       "      <td>challenge</td>\n",
       "    </tr>\n",
       "    <tr>\n",
       "      <th>1115</th>\n",
       "      <td>1117</td>\n",
       "      <td>chr19</td>\n",
       "      <td>11197874</td>\n",
       "      <td>11201970</td>\n",
       "      <td>A</td>\n",
       "      <td>T</td>\n",
       "      <td>+</td>\n",
       "      <td>-0.07</td>\n",
       "      <td>0.02</td>\n",
       "      <td>LDLR</td>\n",
       "      <td>challenge</td>\n",
       "    </tr>\n",
       "    <tr>\n",
       "      <th>1116</th>\n",
       "      <td>1118</td>\n",
       "      <td>chr19</td>\n",
       "      <td>11197875</td>\n",
       "      <td>11201971</td>\n",
       "      <td>C</td>\n",
       "      <td>A</td>\n",
       "      <td>+</td>\n",
       "      <td>0.02</td>\n",
       "      <td>0.00</td>\n",
       "      <td>LDLR</td>\n",
       "      <td>challenge</td>\n",
       "    </tr>\n",
       "    <tr>\n",
       "      <th>1117</th>\n",
       "      <td>1119</td>\n",
       "      <td>chr19</td>\n",
       "      <td>11197875</td>\n",
       "      <td>11201971</td>\n",
       "      <td>C</td>\n",
       "      <td>G</td>\n",
       "      <td>+</td>\n",
       "      <td>0.15</td>\n",
       "      <td>0.02</td>\n",
       "      <td>LDLR</td>\n",
       "      <td>challenge</td>\n",
       "    </tr>\n",
       "    <tr>\n",
       "      <th>...</th>\n",
       "      <td>...</td>\n",
       "      <td>...</td>\n",
       "      <td>...</td>\n",
       "      <td>...</td>\n",
       "      <td>...</td>\n",
       "      <td>...</td>\n",
       "      <td>...</td>\n",
       "      <td>...</td>\n",
       "      <td>...</td>\n",
       "      <td>...</td>\n",
       "      <td>...</td>\n",
       "    </tr>\n",
       "    <tr>\n",
       "      <th>4550</th>\n",
       "      <td>4554</td>\n",
       "      <td>chr19</td>\n",
       "      <td>11198128</td>\n",
       "      <td>11202224</td>\n",
       "      <td>C</td>\n",
       "      <td>G</td>\n",
       "      <td>+</td>\n",
       "      <td>-0.03</td>\n",
       "      <td>0.01</td>\n",
       "      <td>LDLR</td>\n",
       "      <td>release</td>\n",
       "    </tr>\n",
       "    <tr>\n",
       "      <th>4551</th>\n",
       "      <td>4555</td>\n",
       "      <td>chr19</td>\n",
       "      <td>11198128</td>\n",
       "      <td>11202224</td>\n",
       "      <td>C</td>\n",
       "      <td>T</td>\n",
       "      <td>+</td>\n",
       "      <td>-0.08</td>\n",
       "      <td>0.09</td>\n",
       "      <td>LDLR</td>\n",
       "      <td>release</td>\n",
       "    </tr>\n",
       "    <tr>\n",
       "      <th>4552</th>\n",
       "      <td>4556</td>\n",
       "      <td>chr19</td>\n",
       "      <td>11198129</td>\n",
       "      <td>11202225</td>\n",
       "      <td>A</td>\n",
       "      <td>C</td>\n",
       "      <td>+</td>\n",
       "      <td>-0.09</td>\n",
       "      <td>0.02</td>\n",
       "      <td>LDLR</td>\n",
       "      <td>release</td>\n",
       "    </tr>\n",
       "    <tr>\n",
       "      <th>4553</th>\n",
       "      <td>4557</td>\n",
       "      <td>chr19</td>\n",
       "      <td>11198129</td>\n",
       "      <td>11202225</td>\n",
       "      <td>A</td>\n",
       "      <td>G</td>\n",
       "      <td>+</td>\n",
       "      <td>-0.03</td>\n",
       "      <td>0.02</td>\n",
       "      <td>LDLR</td>\n",
       "      <td>release</td>\n",
       "    </tr>\n",
       "    <tr>\n",
       "      <th>4554</th>\n",
       "      <td>4558</td>\n",
       "      <td>chr19</td>\n",
       "      <td>11198129</td>\n",
       "      <td>11202225</td>\n",
       "      <td>A</td>\n",
       "      <td>T</td>\n",
       "      <td>+</td>\n",
       "      <td>-0.08</td>\n",
       "      <td>0.04</td>\n",
       "      <td>LDLR</td>\n",
       "      <td>release</td>\n",
       "    </tr>\n",
       "  </tbody>\n",
       "</table>\n",
       "<p>955 rows × 11 columns</p>\n",
       "</div>"
      ],
      "text/plain": [
       "      index      0         1         2  3  4  5     6     7     8          9\n",
       "1113   1115  chr19  11197874  11201970  A  C  +  0.11  0.02  LDLR  challenge\n",
       "1114   1116  chr19  11197874  11201970  A  G  + -0.03  0.00  LDLR  challenge\n",
       "1115   1117  chr19  11197874  11201970  A  T  + -0.07  0.02  LDLR  challenge\n",
       "1116   1118  chr19  11197875  11201971  C  A  +  0.02  0.00  LDLR  challenge\n",
       "1117   1119  chr19  11197875  11201971  C  G  +  0.15  0.02  LDLR  challenge\n",
       "...     ...    ...       ...       ... .. .. ..   ...   ...   ...        ...\n",
       "4550   4554  chr19  11198128  11202224  C  G  + -0.03  0.01  LDLR    release\n",
       "4551   4555  chr19  11198128  11202224  C  T  + -0.08  0.09  LDLR    release\n",
       "4552   4556  chr19  11198129  11202225  A  C  + -0.09  0.02  LDLR    release\n",
       "4553   4557  chr19  11198129  11202225  A  G  + -0.03  0.02  LDLR    release\n",
       "4554   4558  chr19  11198129  11202225  A  T  + -0.08  0.04  LDLR    release\n",
       "\n",
       "[955 rows x 11 columns]"
      ]
     },
     "execution_count": 4,
     "metadata": {},
     "output_type": "execute_result"
    }
   ],
   "source": [
    "sub_df = cagi_df[cagi_df['8'] == 'LDLR']\n",
    "sub_df"
   ]
  },
  {
   "cell_type": "code",
   "execution_count": 2,
   "metadata": {},
   "outputs": [
    {
     "name": "stdout",
     "output_type": "stream",
     "text": [
      "cosine\n",
      "LDLR\n",
      "-0.5520171780285357\n",
      "SORT1\n",
      "-0.5387206115465768\n",
      "F9\n",
      "-0.5432590148862912\n",
      "PKLR\n",
      "-0.6408864481498749\n",
      "dot\n",
      "LDLR\n",
      "-0.27938162080021284\n",
      "SORT1\n",
      "-0.23028795488017276\n",
      "F9\n",
      "-0.11118765212780396\n",
      "PKLR\n",
      "-0.12963570025082222\n",
      "l1\n",
      "LDLR\n",
      "0.5434136986989314\n",
      "SORT1\n",
      "0.517112310908757\n",
      "F9\n",
      "0.5800116641738409\n",
      "PKLR\n",
      "0.6820189345508577\n",
      "l2\n",
      "LDLR\n",
      "0.5521511442917562\n",
      "SORT1\n",
      "0.5469994406536017\n",
      "F9\n",
      "0.5494278051521219\n",
      "PKLR\n",
      "0.6519684223759711\n"
     ]
    }
   ],
   "source": [
    "perf = []\n",
    "for key in cagi_result.keys():\n",
    "    print(key)\n",
    "    cagi_llr = cagi_result[key]\n",
    "    for exp in ['LDLR','SORT1','F9','PKLR']:\n",
    "        sub_df = cagi_df[cagi_df['8'] == exp]\n",
    "        exp_target = np.array(target)[sub_df.index.to_list()]\n",
    "        exp_pred = np.squeeze(cagi_llr)[sub_df.index.to_list()]\n",
    "        exp_target = np.absolute(exp_target)\n",
    "        print(exp)\n",
    "        perf.append(stats.pearsonr(exp_pred,exp_target)[0])\n",
    "        print(stats.pearsonr(exp_pred,exp_target)[0])"
   ]
  },
  {
   "cell_type": "code",
   "execution_count": 3,
   "metadata": {},
   "outputs": [
    {
     "data": {
      "text/plain": [
       "-0.5446656014871346"
      ]
     },
     "execution_count": 3,
     "metadata": {},
     "output_type": "execute_result"
    }
   ],
   "source": [
    "\n",
    "(-0.5520171780285357-0.5387206115465768-0.5432590148862912)/3"
   ]
  },
  {
   "cell_type": "markdown",
   "metadata": {},
   "source": [
    "## Embedding for downstream Lenti model"
   ]
  },
  {
   "cell_type": "code",
   "execution_count": 3,
   "metadata": {},
   "outputs": [],
   "source": [
    "datalen = '230'\n",
    "file = h5py.File(\"../data/CAGI/\"+datalen+\"/CAGI_onehot.h5\", \"r\")\n",
    "alt = file['alt']\n",
    "ref = file['ref']"
   ]
  },
  {
   "cell_type": "code",
   "execution_count": 4,
   "metadata": {},
   "outputs": [
    {
     "name": "stderr",
     "output_type": "stream",
     "text": [
      "  0%|          | 0/145 [00:00<?, ?it/s]/home/ztang/.conda/envs/gpn_env/lib/python3.9/site-packages/torch/nn/modules/conv.py:309: UserWarning: Applied workaround for CuDNN issue, install nvrtc.so (Triggered internally at ../aten/src/ATen/native/cudnn/Conv_v8.cpp:80.)\n",
      "  return F.conv1d(input, weight, bias, self.stride,\n",
      "100%|██████████| 145/145 [00:24<00:00,  5.87it/s]\n",
      "100%|██████████| 145/145 [00:24<00:00,  5.83it/s]\n"
     ]
    }
   ],
   "source": [
    "embed = embed_extractor()\n",
    "model.spline_tr.register_forward_hook(embed.get_activation('s_out'))\n",
    "batch_size = 128\n",
    "pad_size = (4096-alt.shape[-1])/2\n",
    "#LentiMPRA\n",
    "for i in tqdm(range(0,len(alt),batch_size)):\n",
    "    alt_seq  = np.swapaxes(alt[i:i+batch_size],1,2).astype('float32')\n",
    "    pad_seq = np.pad(alt_seq,((0,0),(0,0),(math.floor(pad_size),math.ceil(pad_size))))   \n",
    "    with torch.no_grad():\n",
    "        output_seq = model(torch.from_numpy(pad_seq).to('cuda'))\n",
    "alt_out = np.array(embed.activation['s_out'])   \n",
    "\n",
    "embed = embed_extractor()\n",
    "model.spline_tr.register_forward_hook(embed.get_activation('s_out'))\n",
    "for i in tqdm(range(0,len(alt),batch_size)):\n",
    "    ref_seq  = np.swapaxes(ref[i:i+batch_size],1,2).astype('float32')\n",
    "    pad_seq = np.pad(ref_seq,((0,0),(0,0),(math.floor(pad_size),math.ceil(pad_size))))     \n",
    "    with torch.no_grad():\n",
    "        output_seq = model(torch.from_numpy(pad_seq).to('cuda'))\n",
    "ref_out = np.array(embed.activation['s_out']) "
   ]
  },
  {
   "cell_type": "code",
   "execution_count": 8,
   "metadata": {},
   "outputs": [],
   "source": [
    "output = h5py.File('../data/CAGI/230_embed/'+'sei.h5', 'w')\n",
    "output.create_dataset('ref', data=np.array(ref_out))\n",
    "output.create_dataset('alt', data=np.array(alt_out))\n",
    "output.close()"
   ]
  }
 ],
 "metadata": {
  "kernelspec": {
   "display_name": "jax_tf",
   "language": "python",
   "name": "python3"
  },
  "language_info": {
   "codemirror_mode": {
    "name": "ipython",
    "version": 3
   },
   "file_extension": ".py",
   "mimetype": "text/x-python",
   "name": "python",
   "nbconvert_exporter": "python",
   "pygments_lexer": "ipython3",
   "version": "3.9.0"
  }
 },
 "nbformat": 4,
 "nbformat_minor": 2
}
