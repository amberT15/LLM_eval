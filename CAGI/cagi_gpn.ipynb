{
 "cells": [
  {
   "cell_type": "code",
   "execution_count": 1,
   "metadata": {},
   "outputs": [
    {
     "name": "stderr",
     "output_type": "stream",
     "text": [
      "/home/ztang/.conda/envs/gpn_env/lib/python3.9/site-packages/tqdm/auto.py:21: TqdmWarning: IProgress not found. Please update jupyter and ipywidgets. See https://ipywidgets.readthedocs.io/en/stable/user_install.html\n",
      "  from .autonotebook import tqdm as notebook_tqdm\n"
     ]
    }
   ],
   "source": [
    "import h5py\n",
    "import torch\n",
    "import transformers\n",
    "from tqdm import tqdm\n",
    "from transformers import AutoModelForMaskedLM, AutoTokenizer,AutoModel\n",
    "import sys\n",
    "import os\n",
    "os.environ['CUDA_VISIBLE_DEVICES'] = '3'\n",
    "sys.path.append('../data_generation')\n",
    "import utils\n",
    "import numpy as np"
   ]
  },
  {
   "cell_type": "code",
   "execution_count": 2,
   "metadata": {},
   "outputs": [],
   "source": [
    "datalen = '512'\n",
    "file = h5py.File(\"../data/CAGI/\"+datalen+\"/CAGI_onehot.h5\", \"r\")\n",
    "alt = file['alt']\n",
    "ref = file['ref']"
   ]
  },
  {
   "attachments": {},
   "cell_type": "markdown",
   "metadata": {},
   "source": [
    "## GPN claim zero shot learning with log p(alt)/p(ref)"
   ]
  },
  {
   "attachments": {},
   "cell_type": "markdown",
   "metadata": {},
   "source": [
    "Need to mask the center nuceltide of each seq and get the p value"
   ]
  },
  {
   "cell_type": "code",
   "execution_count": 3,
   "metadata": {},
   "outputs": [],
   "source": [
    "import gpn\n",
    "import gpn.model\n",
    "model = AutoModelForMaskedLM.from_pretrained(\"../model/GPN_human/checkpoint-2000000\").to('cuda')\n",
    "tokenizer = AutoTokenizer.from_pretrained(\"../model/GPN_human/checkpoint-2000000\")\n",
    "model.eval();"
   ]
  },
  {
   "cell_type": "code",
   "execution_count": 5,
   "metadata": {},
   "outputs": [
    {
     "name": "stderr",
     "output_type": "stream",
     "text": [
      "  0%|          | 0/18442 [00:00<?, ?it/s]/home/ztang/.conda/envs/gpn_env/lib/python3.9/site-packages/torch/nn/modules/conv.py:309: UserWarning: Applied workaround for CuDNN issue, install nvrtc.so (Triggered internally at ../aten/src/ATen/native/cudnn/Conv_v8.cpp:80.)\n",
      "  return F.conv1d(input, weight, bias, self.stride,\n",
      "100%|██████████| 18442/18442 [02:21<00:00, 130.55it/s]\n"
     ]
    }
   ],
   "source": [
    "N, L, A = alt.shape\n",
    "mut_i = int(L/2-1)\n",
    "cagi_llr=[]\n",
    "for i in tqdm(range(N)):\n",
    "    ref_a = np.argmax(ref[i][mut_i])+2\n",
    "    alt_a = np.argmax(alt[i][mut_i])+2\n",
    "    seq = utils.onehot_to_seq([ref[i]])\n",
    "    token = tokenizer.batch_encode_plus(seq)['input_ids'][0]\n",
    "    token[mut_i] = tokenizer.mask_token_id\n",
    "    output = model(torch.tensor([token]).to('cuda')).logits.cpu().detach().numpy()\n",
    "    llr = output[0][mut_i][alt_a] - output[0][mut_i][ref_a]\n",
    "    cagi_llr.append(llr)\n"
   ]
  },
  {
   "cell_type": "code",
   "execution_count": 18,
   "metadata": {},
   "outputs": [],
   "source": [
    "output = h5py.File('../data/CAGI/'+'cagi_'+datalen+'_'+'gpn.h5', 'w')\n",
    "output.create_dataset('llr', data=np.array(cagi_llr))\n",
    "output.close()"
   ]
  },
  {
   "attachments": {},
   "cell_type": "markdown",
   "metadata": {},
   "source": [
    "## Visulization\n"
   ]
  },
  {
   "cell_type": "code",
   "execution_count": 1,
   "metadata": {},
   "outputs": [],
   "source": [
    "import h5py\n",
    "import pandas as pd\n",
    "import numpy as np\n",
    "from operator import itemgetter\n",
    "import seaborn as sns\n",
    "import matplotlib.pyplot as plt \n",
    "import scipy.stats as stats\n",
    "datalen='512'"
   ]
  },
  {
   "cell_type": "code",
   "execution_count": 2,
   "metadata": {},
   "outputs": [],
   "source": [
    "cagi_result = h5py.File('../data/CAGI/'+'cagi_'+datalen+'_'+'gpn.h5', 'r')\n",
    "cagi_llr = cagi_result['llr'][()]"
   ]
  },
  {
   "cell_type": "code",
   "execution_count": 3,
   "metadata": {},
   "outputs": [],
   "source": [
    "cagi_df = pd.read_csv('../data/CAGI/'+datalen+'/final_cagi_metadata.csv',\n",
    "                      index_col=0).reset_index()\n",
    "target = cagi_df['6'].values.tolist()\n",
    "exp_list = cagi_df['8'].unique()"
   ]
  },
  {
   "cell_type": "code",
   "execution_count": 4,
   "metadata": {},
   "outputs": [
    {
     "name": "stdout",
     "output_type": "stream",
     "text": [
      "LDLR\n",
      "-0.07866246778179416\n",
      "SORT1\n",
      "-0.001525750065541454\n",
      "F9\n",
      "0.07505647712949828\n",
      "PKLR\n",
      "0.03675438661873984\n"
     ]
    }
   ],
   "source": [
    "perf = []\n",
    "sanity_check = 0\n",
    "for exp in ['LDLR','SORT1','F9','PKLR']:\n",
    "    sub_df = cagi_df[cagi_df['8'] == exp]\n",
    "    sanity_check += len(sub_df)\n",
    "    exp_target = np.array(target)[sub_df.index.to_list()]\n",
    "    exp_pred = np.squeeze(cagi_llr)[sub_df.index.to_list()]\n",
    "    exp_target = np.absolute(exp_target)\n",
    "    exp_pred = np.absolute(exp_pred)\n",
    "    print(exp)\n",
    "    perf.append(stats.pearsonr(exp_pred,exp_target)[0])\n",
    "    print(stats.pearsonr(exp_pred,exp_target)[0])"
   ]
  },
  {
   "cell_type": "code",
   "execution_count": 5,
   "metadata": {},
   "outputs": [
    {
     "data": {
      "text/plain": [
       "-0.0017099999999999939"
      ]
     },
     "execution_count": 5,
     "metadata": {},
     "output_type": "execute_result"
    }
   ],
   "source": [
    "(-0.07866-0.00152+0.07505)/3"
   ]
  },
  {
   "cell_type": "markdown",
   "metadata": {},
   "source": [
    "## CAGI embedding generation for lenti model"
   ]
  },
  {
   "cell_type": "code",
   "execution_count": 2,
   "metadata": {},
   "outputs": [
    {
     "name": "stderr",
     "output_type": "stream",
     "text": [
      "Some weights of the model checkpoint at ../model/GPN_human/checkpoint-2000000 were not used when initializing ConvNetModel: ['cls.decoder.2.weight', 'cls.decoder.0.bias', 'cls.decoder.0.weight', 'cls.decoder.2.bias', 'cls.decoder.3.bias', 'cls.decoder.3.weight']\n",
      "- This IS expected if you are initializing ConvNetModel from the checkpoint of a model trained on another task or with another architecture (e.g. initializing a BertForSequenceClassification model from a BertForPreTraining model).\n",
      "- This IS NOT expected if you are initializing ConvNetModel from the checkpoint of a model that you expect to be exactly identical (initializing a BertForSequenceClassification model from a BertForSequenceClassification model).\n"
     ]
    }
   ],
   "source": [
    "import gpn\n",
    "import gpn.model\n",
    "\n",
    "datalen = '230'\n",
    "file = h5py.File(\"../data/CAGI/\"+datalen+\"/CAGI_onehot.h5\", \"r\")\n",
    "alt = file['alt']\n",
    "ref = file['ref']\n",
    "\n",
    "model = AutoModel.from_pretrained(\"../model/GPN_human/checkpoint-2000000\").to('cuda')\n",
    "tokenizer = AutoTokenizer.from_pretrained(\"../model/GPN_human/checkpoint-2000000\")\n",
    "model.eval();"
   ]
  },
  {
   "cell_type": "code",
   "execution_count": 3,
   "metadata": {},
   "outputs": [
    {
     "name": "stderr",
     "output_type": "stream",
     "text": [
      "  0%|          | 0/145 [00:00<?, ?it/s]/home/ztang/.conda/envs/gpn_env/lib/python3.9/site-packages/torch/nn/modules/conv.py:309: UserWarning: Applied workaround for CuDNN issue, install nvrtc.so (Triggered internally at ../aten/src/ATen/native/cudnn/Conv_v8.cpp:80.)\n",
      "  return F.conv1d(input, weight, bias, self.stride,\n",
      "100%|██████████| 145/145 [00:34<00:00,  4.23it/s]\n"
     ]
    }
   ],
   "source": [
    "batch_size = 128\n",
    "N, L, A = alt.shape\n",
    "ref_out = []\n",
    "alt_out = []\n",
    "for i in tqdm(range(0,N,batch_size)):\n",
    "    ref_seq = ref[i:i+batch_size]\n",
    "    alt_seq = alt[i:i+batch_size]\n",
    "    ref_seq = utils.onehot_to_seq(ref_seq)\n",
    "    alt_seq = utils.onehot_to_seq(alt_seq)\n",
    "    ref_token = tokenizer.batch_encode_plus(ref_seq)['input_ids']\n",
    "    alt_token = tokenizer.batch_encode_plus(alt_seq)['input_ids']\n",
    "\n",
    "    ref_out.extend(model(torch.tensor(ref_token).to('cuda')).last_hidden_state.cpu().detach().numpy())\n",
    "    alt_out.extend(model(torch.tensor(alt_token).to('cuda')).last_hidden_state.cpu().detach().numpy())\n"
   ]
  },
  {
   "cell_type": "code",
   "execution_count": 6,
   "metadata": {},
   "outputs": [],
   "source": [
    "output = h5py.File('../data/CAGI/230_embed/'+'gpn.h5', 'w')\n",
    "output.create_dataset('ref', data=np.array(ref_out))\n",
    "output.create_dataset('alt', data=np.array(alt_out))\n",
    "output.close()"
   ]
  },
  {
   "cell_type": "code",
   "execution_count": null,
   "metadata": {},
   "outputs": [],
   "source": []
  }
 ],
 "metadata": {
  "kernelspec": {
   "display_name": "tf_2",
   "language": "python",
   "name": "python3"
  },
  "language_info": {
   "codemirror_mode": {
    "name": "ipython",
    "version": 3
   },
   "file_extension": ".py",
   "mimetype": "text/x-python",
   "name": "python",
   "nbconvert_exporter": "python",
   "pygments_lexer": "ipython3",
   "version": "3.9.0"
  },
  "orig_nbformat": 4
 },
 "nbformat": 4,
 "nbformat_minor": 2
}
